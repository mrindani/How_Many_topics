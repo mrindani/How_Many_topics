{
  "nbformat": 4,
  "nbformat_minor": 0,
  "metadata": {
    "colab": {
      "name": "Wine-Reviews-LDA",
      "provenance": [],
      "collapsed_sections": [],
      "authorship_tag": "ABX9TyOd5e2o5ng3ls+HUx7bDSbj",
      "include_colab_link": true
    },
    "kernelspec": {
      "name": "python3",
      "display_name": "Python 3"
    }
  },
  "cells": [
    {
      "cell_type": "markdown",
      "metadata": {
        "id": "view-in-github",
        "colab_type": "text"
      },
      "source": [
        "<a href=\"https://colab.research.google.com/github/mrindani/How_Many_topics/blob/master/Wine_Reviews_LDA.ipynb\" target=\"_parent\"><img src=\"https://colab.research.google.com/assets/colab-badge.svg\" alt=\"Open In Colab\"/></a>"
      ]
    },
    {
      "cell_type": "code",
      "metadata": {
        "id": "AkpZxxalKAHW",
        "outputId": "07d0f639-147b-4326-d87b-35e3d46b4d69",
        "colab": {
          "base_uri": "https://localhost:8080/",
          "height": 52
        }
      },
      "source": [
        "import spacy.cli\n",
        "spacy.cli.download(\"en_core_web_sm\")"
      ],
      "execution_count": null,
      "outputs": [
        {
          "output_type": "stream",
          "text": [
            "\u001b[38;5;2m✔ Download and installation successful\u001b[0m\n",
            "You can now load the model via spacy.load('en_core_web_sm')\n"
          ],
          "name": "stdout"
        }
      ]
    },
    {
      "cell_type": "code",
      "metadata": {
        "id": "sU35KwsGKMWo",
        "outputId": "af68e14e-4526-44aa-803b-5165c8fdcd0d",
        "colab": {
          "base_uri": "https://localhost:8080/",
          "height": 382
        }
      },
      "source": [
        "pip install pyLDAvis"
      ],
      "execution_count": null,
      "outputs": [
        {
          "output_type": "stream",
          "text": [
            "Requirement already satisfied: pyLDAvis in /usr/local/lib/python3.6/dist-packages (2.1.2)\n",
            "Requirement already satisfied: future in /usr/local/lib/python3.6/dist-packages (from pyLDAvis) (0.16.0)\n",
            "Requirement already satisfied: jinja2>=2.7.2 in /usr/local/lib/python3.6/dist-packages (from pyLDAvis) (2.11.2)\n",
            "Requirement already satisfied: pandas>=0.17.0 in /usr/local/lib/python3.6/dist-packages (from pyLDAvis) (1.0.5)\n",
            "Requirement already satisfied: scipy>=0.18.0 in /usr/local/lib/python3.6/dist-packages (from pyLDAvis) (1.4.1)\n",
            "Requirement already satisfied: funcy in /usr/local/lib/python3.6/dist-packages (from pyLDAvis) (1.15)\n",
            "Requirement already satisfied: numexpr in /usr/local/lib/python3.6/dist-packages (from pyLDAvis) (2.7.1)\n",
            "Requirement already satisfied: pytest in /usr/local/lib/python3.6/dist-packages (from pyLDAvis) (3.6.4)\n",
            "Requirement already satisfied: wheel>=0.23.0 in /usr/local/lib/python3.6/dist-packages (from pyLDAvis) (0.35.1)\n",
            "Requirement already satisfied: numpy>=1.9.2 in /usr/local/lib/python3.6/dist-packages (from pyLDAvis) (1.18.5)\n",
            "Requirement already satisfied: joblib>=0.8.4 in /usr/local/lib/python3.6/dist-packages (from pyLDAvis) (0.16.0)\n",
            "Requirement already satisfied: MarkupSafe>=0.23 in /usr/local/lib/python3.6/dist-packages (from jinja2>=2.7.2->pyLDAvis) (1.1.1)\n",
            "Requirement already satisfied: pytz>=2017.2 in /usr/local/lib/python3.6/dist-packages (from pandas>=0.17.0->pyLDAvis) (2018.9)\n",
            "Requirement already satisfied: python-dateutil>=2.6.1 in /usr/local/lib/python3.6/dist-packages (from pandas>=0.17.0->pyLDAvis) (2.8.1)\n",
            "Requirement already satisfied: py>=1.5.0 in /usr/local/lib/python3.6/dist-packages (from pytest->pyLDAvis) (1.9.0)\n",
            "Requirement already satisfied: setuptools in /usr/local/lib/python3.6/dist-packages (from pytest->pyLDAvis) (50.3.0)\n",
            "Requirement already satisfied: attrs>=17.4.0 in /usr/local/lib/python3.6/dist-packages (from pytest->pyLDAvis) (20.2.0)\n",
            "Requirement already satisfied: more-itertools>=4.0.0 in /usr/local/lib/python3.6/dist-packages (from pytest->pyLDAvis) (8.5.0)\n",
            "Requirement already satisfied: six>=1.10.0 in /usr/local/lib/python3.6/dist-packages (from pytest->pyLDAvis) (1.15.0)\n",
            "Requirement already satisfied: atomicwrites>=1.0 in /usr/local/lib/python3.6/dist-packages (from pytest->pyLDAvis) (1.4.0)\n",
            "Requirement already satisfied: pluggy<0.8,>=0.5 in /usr/local/lib/python3.6/dist-packages (from pytest->pyLDAvis) (0.7.1)\n"
          ],
          "name": "stdout"
        }
      ]
    },
    {
      "cell_type": "code",
      "metadata": {
        "id": "ObSb3MAoIRhP"
      },
      "source": [
        "# Usual imports\n",
        "import numpy as np\n",
        "import pandas as pd\n",
        "from tqdm import tqdm\n",
        "import string\n",
        "import matplotlib.pyplot as plt\n",
        "from sklearn.decomposition import NMF, LatentDirichletAllocation, TruncatedSVD\n",
        "from sklearn.feature_extraction.text import CountVectorizer\n",
        "from sklearn.manifold import TSNE\n",
        "import concurrent.futures\n",
        "import time\n",
        "import pyLDAvis\n",
        "import pyLDAvis.sklearn\n",
        "from pylab import bone, pcolor, colorbar, plot, show, rcParams, savefig\n",
        "import warnings"
      ],
      "execution_count": null,
      "outputs": []
    },
    {
      "cell_type": "code",
      "metadata": {
        "id": "gv5GEWudKUjO"
      },
      "source": [
        "warnings.filterwarnings('ignore')"
      ],
      "execution_count": null,
      "outputs": []
    },
    {
      "cell_type": "code",
      "metadata": {
        "id": "2cBZUxks91d_"
      },
      "source": [
        "import gensim\n",
        "import gensim.corpora as corpora\n",
        "from gensim.utils import simple_preprocess\n",
        "from gensim.models import CoherenceModel"
      ],
      "execution_count": null,
      "outputs": []
    },
    {
      "cell_type": "code",
      "metadata": {
        "id": "PtALA5L-s_e4",
        "outputId": "2acaecf0-be19-4da2-fe3b-e2c28a722049",
        "colab": {
          "base_uri": "https://localhost:8080/",
          "height": 173
        }
      },
      "source": [
        "!pip install chart_studio"
      ],
      "execution_count": null,
      "outputs": [
        {
          "output_type": "stream",
          "text": [
            "Requirement already satisfied: chart_studio in /usr/local/lib/python3.6/dist-packages (1.1.0)\n",
            "Requirement already satisfied: six in /usr/local/lib/python3.6/dist-packages (from chart_studio) (1.15.0)\n",
            "Requirement already satisfied: plotly in /usr/local/lib/python3.6/dist-packages (from chart_studio) (4.4.1)\n",
            "Requirement already satisfied: retrying>=1.3.3 in /usr/local/lib/python3.6/dist-packages (from chart_studio) (1.3.3)\n",
            "Requirement already satisfied: requests in /usr/local/lib/python3.6/dist-packages (from chart_studio) (2.23.0)\n",
            "Requirement already satisfied: chardet<4,>=3.0.2 in /usr/local/lib/python3.6/dist-packages (from requests->chart_studio) (3.0.4)\n",
            "Requirement already satisfied: urllib3!=1.25.0,!=1.25.1,<1.26,>=1.21.1 in /usr/local/lib/python3.6/dist-packages (from requests->chart_studio) (1.24.3)\n",
            "Requirement already satisfied: idna<3,>=2.5 in /usr/local/lib/python3.6/dist-packages (from requests->chart_studio) (2.10)\n",
            "Requirement already satisfied: certifi>=2017.4.17 in /usr/local/lib/python3.6/dist-packages (from requests->chart_studio) (2020.6.20)\n"
          ],
          "name": "stdout"
        }
      ]
    },
    {
      "cell_type": "code",
      "metadata": {
        "id": "ewAvewY_tCXp"
      },
      "source": [
        "import chart_studio.plotly as py\n",
        "import plotly.graph_objs as go"
      ],
      "execution_count": null,
      "outputs": []
    },
    {
      "cell_type": "code",
      "metadata": {
        "id": "mHN7bnjFKWTp",
        "outputId": "6411686a-ab3b-4b75-fecf-a942a8d73163",
        "colab": {
          "base_uri": "https://localhost:8080/",
          "height": 436
        }
      },
      "source": [
        "%matplotlib inline\n",
        "import os\n",
        "#print(os.listdir(\"../input\"))\n",
        "\n",
        "# Plotly based imports for visualization\n",
        "from plotly import tools\n",
        "#import plotly.plotly as py\n",
        "from plotly.offline import init_notebook_mode, iplot\n",
        "init_notebook_mode(connected=True)\n",
        "import plotly.graph_objs as go\n",
        "import plotly.figure_factory as ff\n",
        "\n",
        "# spaCy based imports\n",
        "import spacy\n",
        "from spacy.lang.en.stop_words import STOP_WORDS\n",
        "from spacy.lang.en import English\n",
        "!python -m spacy download en_core_web_lg"
      ],
      "execution_count": null,
      "outputs": [
        {
          "output_type": "display_data",
          "data": {
            "text/html": [
              "        <script type=\"text/javascript\">\n",
              "        window.PlotlyConfig = {MathJaxConfig: 'local'};\n",
              "        if (window.MathJax) {MathJax.Hub.Config({SVG: {font: \"STIX-Web\"}});}\n",
              "        if (typeof require !== 'undefined') {\n",
              "        require.undef(\"plotly\");\n",
              "        requirejs.config({\n",
              "            paths: {\n",
              "                'plotly': ['https://cdn.plot.ly/plotly-latest.min']\n",
              "            }\n",
              "        });\n",
              "        require(['plotly'], function(Plotly) {\n",
              "            window._Plotly = Plotly;\n",
              "        });\n",
              "        }\n",
              "        </script>\n",
              "        "
            ]
          },
          "metadata": {
            "tags": []
          }
        },
        {
          "output_type": "stream",
          "text": [
            "Requirement already satisfied: en_core_web_lg==2.2.5 from https://github.com/explosion/spacy-models/releases/download/en_core_web_lg-2.2.5/en_core_web_lg-2.2.5.tar.gz#egg=en_core_web_lg==2.2.5 in /usr/local/lib/python3.6/dist-packages (2.2.5)\n",
            "Requirement already satisfied: spacy>=2.2.2 in /usr/local/lib/python3.6/dist-packages (from en_core_web_lg==2.2.5) (2.2.4)\n",
            "Requirement already satisfied: wasabi<1.1.0,>=0.4.0 in /usr/local/lib/python3.6/dist-packages (from spacy>=2.2.2->en_core_web_lg==2.2.5) (0.8.0)\n",
            "Requirement already satisfied: srsly<1.1.0,>=1.0.2 in /usr/local/lib/python3.6/dist-packages (from spacy>=2.2.2->en_core_web_lg==2.2.5) (1.0.2)\n",
            "Requirement already satisfied: blis<0.5.0,>=0.4.0 in /usr/local/lib/python3.6/dist-packages (from spacy>=2.2.2->en_core_web_lg==2.2.5) (0.4.1)\n",
            "Requirement already satisfied: cymem<2.1.0,>=2.0.2 in /usr/local/lib/python3.6/dist-packages (from spacy>=2.2.2->en_core_web_lg==2.2.5) (2.0.3)\n",
            "Requirement already satisfied: catalogue<1.1.0,>=0.0.7 in /usr/local/lib/python3.6/dist-packages (from spacy>=2.2.2->en_core_web_lg==2.2.5) (1.0.0)\n",
            "Requirement already satisfied: preshed<3.1.0,>=3.0.2 in /usr/local/lib/python3.6/dist-packages (from spacy>=2.2.2->en_core_web_lg==2.2.5) (3.0.2)\n",
            "Requirement already satisfied: requests<3.0.0,>=2.13.0 in /usr/local/lib/python3.6/dist-packages (from spacy>=2.2.2->en_core_web_lg==2.2.5) (2.23.0)\n",
            "Requirement already satisfied: setuptools in /usr/local/lib/python3.6/dist-packages (from spacy>=2.2.2->en_core_web_lg==2.2.5) (50.3.0)\n",
            "Requirement already satisfied: thinc==7.4.0 in /usr/local/lib/python3.6/dist-packages (from spacy>=2.2.2->en_core_web_lg==2.2.5) (7.4.0)\n",
            "Requirement already satisfied: numpy>=1.15.0 in /usr/local/lib/python3.6/dist-packages (from spacy>=2.2.2->en_core_web_lg==2.2.5) (1.18.5)\n",
            "Requirement already satisfied: murmurhash<1.1.0,>=0.28.0 in /usr/local/lib/python3.6/dist-packages (from spacy>=2.2.2->en_core_web_lg==2.2.5) (1.0.2)\n",
            "Requirement already satisfied: plac<1.2.0,>=0.9.6 in /usr/local/lib/python3.6/dist-packages (from spacy>=2.2.2->en_core_web_lg==2.2.5) (1.1.3)\n",
            "Requirement already satisfied: tqdm<5.0.0,>=4.38.0 in /usr/local/lib/python3.6/dist-packages (from spacy>=2.2.2->en_core_web_lg==2.2.5) (4.41.1)\n",
            "Requirement already satisfied: importlib-metadata>=0.20; python_version < \"3.8\" in /usr/local/lib/python3.6/dist-packages (from catalogue<1.1.0,>=0.0.7->spacy>=2.2.2->en_core_web_lg==2.2.5) (1.7.0)\n",
            "Requirement already satisfied: urllib3!=1.25.0,!=1.25.1,<1.26,>=1.21.1 in /usr/local/lib/python3.6/dist-packages (from requests<3.0.0,>=2.13.0->spacy>=2.2.2->en_core_web_lg==2.2.5) (1.24.3)\n",
            "Requirement already satisfied: idna<3,>=2.5 in /usr/local/lib/python3.6/dist-packages (from requests<3.0.0,>=2.13.0->spacy>=2.2.2->en_core_web_lg==2.2.5) (2.10)\n",
            "Requirement already satisfied: chardet<4,>=3.0.2 in /usr/local/lib/python3.6/dist-packages (from requests<3.0.0,>=2.13.0->spacy>=2.2.2->en_core_web_lg==2.2.5) (3.0.4)\n",
            "Requirement already satisfied: certifi>=2017.4.17 in /usr/local/lib/python3.6/dist-packages (from requests<3.0.0,>=2.13.0->spacy>=2.2.2->en_core_web_lg==2.2.5) (2020.6.20)\n",
            "Requirement already satisfied: zipp>=0.5 in /usr/local/lib/python3.6/dist-packages (from importlib-metadata>=0.20; python_version < \"3.8\"->catalogue<1.1.0,>=0.0.7->spacy>=2.2.2->en_core_web_lg==2.2.5) (3.1.0)\n",
            "\u001b[38;5;2m✔ Download and installation successful\u001b[0m\n",
            "You can now load the model via spacy.load('en_core_web_lg')\n"
          ],
          "name": "stdout"
        }
      ]
    },
    {
      "cell_type": "code",
      "metadata": {
        "id": "40wk7ZtDvLpa"
      },
      "source": [
        "!pip install --upgrade --force-reinstall --no-deps kaggle"
      ],
      "execution_count": null,
      "outputs": []
    },
    {
      "cell_type": "code",
      "metadata": {
        "id": "vLH6-EDnxjfs",
        "outputId": "d81580d8-b97f-4203-840d-f8a441226049",
        "colab": {
          "resources": {
            "http://localhost:8080/nbextensions/google.colab/files.js": {
              "data": "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",
              "ok": true,
              "headers": [
                [
                  "content-type",
                  "application/javascript"
                ]
              ],
              "status": 200,
              "status_text": "OK"
            }
          },
          "base_uri": "https://localhost:8080/",
          "height": 96
        }
      },
      "source": [
        "from google.colab import files\n",
        "files.upload()"
      ],
      "execution_count": null,
      "outputs": [
        {
          "output_type": "display_data",
          "data": {
            "text/html": [
              "\n",
              "     <input type=\"file\" id=\"files-bca5f397-5122-49ac-a2ac-acc43c918ac7\" name=\"files[]\" multiple disabled\n",
              "        style=\"border:none\" />\n",
              "     <output id=\"result-bca5f397-5122-49ac-a2ac-acc43c918ac7\">\n",
              "      Upload widget is only available when the cell has been executed in the\n",
              "      current browser session. Please rerun this cell to enable.\n",
              "      </output>\n",
              "      <script src=\"/nbextensions/google.colab/files.js\"></script> "
            ],
            "text/plain": [
              "<IPython.core.display.HTML object>"
            ]
          },
          "metadata": {
            "tags": []
          }
        },
        {
          "output_type": "stream",
          "text": [
            "Saving kaggle.json to kaggle.json\n"
          ],
          "name": "stdout"
        },
        {
          "output_type": "execute_result",
          "data": {
            "text/plain": [
              "{'kaggle.json': b'{\"username\":\"mrindani\",\"key\":\"9928128026eff6e60530d47ec157f92e\"}'}"
            ]
          },
          "metadata": {
            "tags": []
          },
          "execution_count": 11
        }
      ]
    },
    {
      "cell_type": "code",
      "metadata": {
        "id": "IOj43_-sx--5",
        "outputId": "720cc926-492a-4fb3-9014-f3f20edabf58",
        "colab": {
          "base_uri": "https://localhost:8080/",
          "height": 34
        }
      },
      "source": [
        "from google.colab import drive\n",
        "drive.mount('/content/drive')"
      ],
      "execution_count": null,
      "outputs": [
        {
          "output_type": "stream",
          "text": [
            "Mounted at /content/drive\n"
          ],
          "name": "stdout"
        }
      ]
    },
    {
      "cell_type": "code",
      "metadata": {
        "id": "vTUN5SSXydDb"
      },
      "source": [
        "! mkdir ~/.kaggle\n",
        "! cp kaggle.json ~/.kaggle/"
      ],
      "execution_count": null,
      "outputs": []
    },
    {
      "cell_type": "code",
      "metadata": {
        "id": "iK9us0CQyh2m"
      },
      "source": [
        "! chmod 600 ~/.kaggle/kaggle.json"
      ],
      "execution_count": null,
      "outputs": []
    },
    {
      "cell_type": "code",
      "metadata": {
        "id": "3FzvecYrylgh",
        "outputId": "696b1b3f-37d2-4626-ab9b-68579d4efb0d",
        "colab": {
          "base_uri": "https://localhost:8080/",
          "height": 419
        }
      },
      "source": [
        "! kaggle datasets list"
      ],
      "execution_count": null,
      "outputs": [
        {
          "output_type": "stream",
          "text": [
            "ref                                                    title                                              size  lastUpdated          downloadCount  voteCount  usabilityRating  \n",
            "-----------------------------------------------------  ------------------------------------------------  -----  -------------------  -------------  ---------  ---------------  \n",
            "shivan118/healthcare-analytics                         AV : Healthcare Analytics                           2MB  2020-09-13 17:40:05           2271        113  0.9411765        \n",
            "datatattle/covid-19-nlp-text-classification            Coronavirus tweets NLP - Text Classification        4MB  2020-09-08 11:40:11           1609         86  1.0              \n",
            "anmolkumar/health-insurance-cross-sell-prediction      Health Insurance Cross Sell Prediction 🏠 🏥          6MB  2020-09-11 18:39:31           2785        181  1.0              \n",
            "Cornell-University/arxiv                               arXiv Dataset                                     889MB  2020-09-26 23:51:17           3187        573  0.875            \n",
            "nipunarora8/age-gender-and-ethnicity-face-data-csv     AGE, GENDER AND ETHNICITY (FACE DATA) CSV          63MB  2020-09-02 13:46:38           1163         52  1.0              \n",
            "yoannboyere/co2-ghg-emissionsdata                      CO2_GHG_emissions-data                            147KB  2020-09-14 09:59:25           1169         41  1.0              \n",
            "ramjidoolla/ipl-data-set                               IPL _Data_Set                                       1MB  2020-09-14 10:57:42           2087         71  0.9705882        \n",
            "anikannal/solar-power-generation-data                  Solar Power Generation Data                         2MB  2020-08-18 15:52:03           4950        294  1.0              \n",
            "nehaprabhavalkar/av-healthcare-analytics-ii            AV : Healthcare Analytics II                        7MB  2020-08-29 03:40:10           2262        109  1.0              \n",
            "tunguz/us-elections-dataset                            US Elections Dataset                               16MB  2020-09-22 20:27:55           3069        102  0.9705882        \n",
            "imoore/60k-stack-overflow-questions-with-quality-rate  60k Stack Overflow Questions with Quality Rating   21MB  2020-09-25 15:57:26           1326        176  1.0              \n",
            "jmmvutu/summer-products-and-sales-in-ecommerce-wish    Sales of summer clothes in E-commerce Wish        376KB  2020-08-23 15:16:46           7086        251  0.9705882        \n",
            "ruchi798/bookcrossing-dataset                          Book-Crossing: User review ratings                 25MB  2020-08-11 10:40:25           1336        172  1.0              \n",
            "google/tinyquickdraw                                   QuickDraw Sketches                                 11GB  2018-04-18 19:38:04           2329        244  0.8125           \n",
            "agirlcoding/all-space-missions-from-1957               All Space Missions from 1957                      101KB  2020-08-13 16:18:58           3763        247  0.85294116       \n",
            "ihelon/lego-minifigures-classification                 LEGO Minifigures                                   19MB  2020-09-22 07:33:22           1295        127  0.9411765        \n",
            "datasnaek/youtube-new                                  Trending YouTube Video Statistics                 201MB  2019-06-03 00:56:47         106458       2887  0.7941176        \n",
            "zynicide/wine-reviews                                  Wine Reviews                                       51MB  2017-11-27 17:08:04         113583       2570  0.7941176        \n",
            "residentmario/ramen-ratings                            Ramen Ratings                                      40KB  2018-01-11 16:04:39          14157        334  0.7058824        \n",
            "datasnaek/chess                                        Chess Game Dataset (Lichess)                        3MB  2017-09-04 03:09:09           9230        336  0.8235294        \n"
          ],
          "name": "stdout"
        }
      ]
    },
    {
      "cell_type": "code",
      "metadata": {
        "id": "Tqe1nEHxyqMr",
        "outputId": "dfa444d2-c1b1-43be-cbc2-e6c5e9286ebc",
        "colab": {
          "base_uri": "https://localhost:8080/",
          "height": 69
        }
      },
      "source": [
        "! kaggle datasets download -d zynicide/wine-reviews"
      ],
      "execution_count": null,
      "outputs": [
        {
          "output_type": "stream",
          "text": [
            "Downloading wine-reviews.zip to /content\n",
            " 96% 49.0M/50.9M [00:02<00:00, 13.2MB/s]\n",
            "100% 50.9M/50.9M [00:02<00:00, 19.5MB/s]\n"
          ],
          "name": "stdout"
        }
      ]
    },
    {
      "cell_type": "code",
      "metadata": {
        "id": "w8lgBYG0zhvc",
        "outputId": "405db26e-46cc-4e60-dda9-679d668edc5c",
        "colab": {
          "base_uri": "https://localhost:8080/",
          "height": 86
        }
      },
      "source": [
        "! mkdir wine-reviews\n",
        "\n",
        "! unzip wine-reviews.zip -d wine-reviews"
      ],
      "execution_count": null,
      "outputs": [
        {
          "output_type": "stream",
          "text": [
            "Archive:  wine-reviews.zip\n",
            "  inflating: wine-reviews/winemag-data-130k-v2.csv  \n",
            "  inflating: wine-reviews/winemag-data-130k-v2.json  \n",
            "  inflating: wine-reviews/winemag-data_first150k.csv  \n"
          ],
          "name": "stdout"
        }
      ]
    },
    {
      "cell_type": "code",
      "metadata": {
        "id": "xON8TpjbupOS",
        "outputId": "35d38681-7f93-47f4-cdac-bcf4f983893a",
        "colab": {
          "base_uri": "https://localhost:8080/",
          "height": 310
        }
      },
      "source": [
        "# Loading data\n",
        "wines = pd.read_csv('/content/wine-reviews/winemag-data_first150k.csv')\n",
        "wines.head()"
      ],
      "execution_count": null,
      "outputs": [
        {
          "output_type": "execute_result",
          "data": {
            "text/html": [
              "<div>\n",
              "<style scoped>\n",
              "    .dataframe tbody tr th:only-of-type {\n",
              "        vertical-align: middle;\n",
              "    }\n",
              "\n",
              "    .dataframe tbody tr th {\n",
              "        vertical-align: top;\n",
              "    }\n",
              "\n",
              "    .dataframe thead th {\n",
              "        text-align: right;\n",
              "    }\n",
              "</style>\n",
              "<table border=\"1\" class=\"dataframe\">\n",
              "  <thead>\n",
              "    <tr style=\"text-align: right;\">\n",
              "      <th></th>\n",
              "      <th>Unnamed: 0</th>\n",
              "      <th>country</th>\n",
              "      <th>description</th>\n",
              "      <th>designation</th>\n",
              "      <th>points</th>\n",
              "      <th>price</th>\n",
              "      <th>province</th>\n",
              "      <th>region_1</th>\n",
              "      <th>region_2</th>\n",
              "      <th>variety</th>\n",
              "      <th>winery</th>\n",
              "    </tr>\n",
              "  </thead>\n",
              "  <tbody>\n",
              "    <tr>\n",
              "      <th>0</th>\n",
              "      <td>0</td>\n",
              "      <td>US</td>\n",
              "      <td>This tremendous 100% varietal wine hails from ...</td>\n",
              "      <td>Martha's Vineyard</td>\n",
              "      <td>96</td>\n",
              "      <td>235.0</td>\n",
              "      <td>California</td>\n",
              "      <td>Napa Valley</td>\n",
              "      <td>Napa</td>\n",
              "      <td>Cabernet Sauvignon</td>\n",
              "      <td>Heitz</td>\n",
              "    </tr>\n",
              "    <tr>\n",
              "      <th>1</th>\n",
              "      <td>1</td>\n",
              "      <td>Spain</td>\n",
              "      <td>Ripe aromas of fig, blackberry and cassis are ...</td>\n",
              "      <td>Carodorum Selección Especial Reserva</td>\n",
              "      <td>96</td>\n",
              "      <td>110.0</td>\n",
              "      <td>Northern Spain</td>\n",
              "      <td>Toro</td>\n",
              "      <td>NaN</td>\n",
              "      <td>Tinta de Toro</td>\n",
              "      <td>Bodega Carmen Rodríguez</td>\n",
              "    </tr>\n",
              "    <tr>\n",
              "      <th>2</th>\n",
              "      <td>2</td>\n",
              "      <td>US</td>\n",
              "      <td>Mac Watson honors the memory of a wine once ma...</td>\n",
              "      <td>Special Selected Late Harvest</td>\n",
              "      <td>96</td>\n",
              "      <td>90.0</td>\n",
              "      <td>California</td>\n",
              "      <td>Knights Valley</td>\n",
              "      <td>Sonoma</td>\n",
              "      <td>Sauvignon Blanc</td>\n",
              "      <td>Macauley</td>\n",
              "    </tr>\n",
              "    <tr>\n",
              "      <th>3</th>\n",
              "      <td>3</td>\n",
              "      <td>US</td>\n",
              "      <td>This spent 20 months in 30% new French oak, an...</td>\n",
              "      <td>Reserve</td>\n",
              "      <td>96</td>\n",
              "      <td>65.0</td>\n",
              "      <td>Oregon</td>\n",
              "      <td>Willamette Valley</td>\n",
              "      <td>Willamette Valley</td>\n",
              "      <td>Pinot Noir</td>\n",
              "      <td>Ponzi</td>\n",
              "    </tr>\n",
              "    <tr>\n",
              "      <th>4</th>\n",
              "      <td>4</td>\n",
              "      <td>France</td>\n",
              "      <td>This is the top wine from La Bégude, named aft...</td>\n",
              "      <td>La Brûlade</td>\n",
              "      <td>95</td>\n",
              "      <td>66.0</td>\n",
              "      <td>Provence</td>\n",
              "      <td>Bandol</td>\n",
              "      <td>NaN</td>\n",
              "      <td>Provence red blend</td>\n",
              "      <td>Domaine de la Bégude</td>\n",
              "    </tr>\n",
              "  </tbody>\n",
              "</table>\n",
              "</div>"
            ],
            "text/plain": [
              "   Unnamed: 0 country  ...             variety                   winery\n",
              "0           0      US  ...  Cabernet Sauvignon                    Heitz\n",
              "1           1   Spain  ...       Tinta de Toro  Bodega Carmen Rodríguez\n",
              "2           2      US  ...     Sauvignon Blanc                 Macauley\n",
              "3           3      US  ...          Pinot Noir                    Ponzi\n",
              "4           4  France  ...  Provence red blend     Domaine de la Bégude\n",
              "\n",
              "[5 rows x 11 columns]"
            ]
          },
          "metadata": {
            "tags": []
          },
          "execution_count": 8
        }
      ]
    },
    {
      "cell_type": "code",
      "metadata": {
        "id": "cYWTSyhtur_1"
      },
      "source": [
        "# Creating a spaCy object\n",
        "nlp = spacy.load('en_core_web_lg')"
      ],
      "execution_count": null,
      "outputs": []
    },
    {
      "cell_type": "code",
      "metadata": {
        "id": "MChTlsTI0W22",
        "outputId": "8a39f9ce-d422-4f50-c132-f7de3947aeb8",
        "colab": {
          "base_uri": "https://localhost:8080/",
          "height": 122
        }
      },
      "source": [
        "doc = nlp(wines[\"description\"][3])\n",
        "spacy.displacy.render(doc, style='ent',jupyter=True)"
      ],
      "execution_count": null,
      "outputs": [
        {
          "output_type": "display_data",
          "data": {
            "text/html": [
              "<span class=\"tex2jax_ignore\"><div class=\"entities\" style=\"line-height: 2.5; direction: ltr\">This spent \n",
              "<mark class=\"entity\" style=\"background: #bfe1d9; padding: 0.45em 0.6em; margin: 0 0.25em; line-height: 1; border-radius: 0.35em;\">\n",
              "    20 months\n",
              "    <span style=\"font-size: 0.8em; font-weight: bold; line-height: 1; border-radius: 0.35em; text-transform: uppercase; vertical-align: middle; margin-left: 0.5rem\">DATE</span>\n",
              "</mark>\n",
              " in \n",
              "<mark class=\"entity\" style=\"background: #e4e7d2; padding: 0.45em 0.6em; margin: 0 0.25em; line-height: 1; border-radius: 0.35em;\">\n",
              "    30%\n",
              "    <span style=\"font-size: 0.8em; font-weight: bold; line-height: 1; border-radius: 0.35em; text-transform: uppercase; vertical-align: middle; margin-left: 0.5rem\">PERCENT</span>\n",
              "</mark>\n",
              " new \n",
              "<mark class=\"entity\" style=\"background: #c887fb; padding: 0.45em 0.6em; margin: 0 0.25em; line-height: 1; border-radius: 0.35em;\">\n",
              "    French\n",
              "    <span style=\"font-size: 0.8em; font-weight: bold; line-height: 1; border-radius: 0.35em; text-transform: uppercase; vertical-align: middle; margin-left: 0.5rem\">NORP</span>\n",
              "</mark>\n",
              " oak, and incorporates fruit from \n",
              "<mark class=\"entity\" style=\"background: #7aecec; padding: 0.45em 0.6em; margin: 0 0.25em; line-height: 1; border-radius: 0.35em;\">\n",
              "    Ponzi\n",
              "    <span style=\"font-size: 0.8em; font-weight: bold; line-height: 1; border-radius: 0.35em; text-transform: uppercase; vertical-align: middle; margin-left: 0.5rem\">ORG</span>\n",
              "</mark>\n",
              "'s Aurora, \n",
              "<mark class=\"entity\" style=\"background: #feca74; padding: 0.45em 0.6em; margin: 0 0.25em; line-height: 1; border-radius: 0.35em;\">\n",
              "    Abetina\n",
              "    <span style=\"font-size: 0.8em; font-weight: bold; line-height: 1; border-radius: 0.35em; text-transform: uppercase; vertical-align: middle; margin-left: 0.5rem\">GPE</span>\n",
              "</mark>\n",
              " and \n",
              "<mark class=\"entity\" style=\"background: #feca74; padding: 0.45em 0.6em; margin: 0 0.25em; line-height: 1; border-radius: 0.35em;\">\n",
              "    Madrona vineyards\n",
              "    <span style=\"font-size: 0.8em; font-weight: bold; line-height: 1; border-radius: 0.35em; text-transform: uppercase; vertical-align: middle; margin-left: 0.5rem\">GPE</span>\n",
              "</mark>\n",
              ", among others. Aromatic, dense and toasty, it deftly blends aromas and flavors of toast, cigar box, \n",
              "<mark class=\"entity\" style=\"background: #7aecec; padding: 0.45em 0.6em; margin: 0 0.25em; line-height: 1; border-radius: 0.35em;\">\n",
              "    blackberry\n",
              "    <span style=\"font-size: 0.8em; font-weight: bold; line-height: 1; border-radius: 0.35em; text-transform: uppercase; vertical-align: middle; margin-left: 0.5rem\">ORG</span>\n",
              "</mark>\n",
              ", black cherry, coffee and graphite. Tannins are polished to a fine sheen, and frame a finish loaded with dark chocolate and espresso. Drink now through \n",
              "<mark class=\"entity\" style=\"background: #bfe1d9; padding: 0.45em 0.6em; margin: 0 0.25em; line-height: 1; border-radius: 0.35em;\">\n",
              "    2032\n",
              "    <span style=\"font-size: 0.8em; font-weight: bold; line-height: 1; border-radius: 0.35em; text-transform: uppercase; vertical-align: middle; margin-left: 0.5rem\">DATE</span>\n",
              "</mark>\n",
              ".</div></span>"
            ],
            "text/plain": [
              "<IPython.core.display.HTML object>"
            ]
          },
          "metadata": {
            "tags": []
          }
        }
      ]
    },
    {
      "cell_type": "code",
      "metadata": {
        "id": "0fvzEaCe1HFt"
      },
      "source": [
        "punctuations = string.punctuation\n",
        "stopwords = list(STOP_WORDS)"
      ],
      "execution_count": null,
      "outputs": []
    },
    {
      "cell_type": "code",
      "metadata": {
        "id": "FGAQbwDz1Mns"
      },
      "source": [
        "review = str(\" \".join([i.lemma_ for i in doc]))"
      ],
      "execution_count": null,
      "outputs": []
    },
    {
      "cell_type": "code",
      "metadata": {
        "id": "tQfnJVDU1Pqq",
        "outputId": "00a436b9-1855-4955-b7f4-5606975ddf87",
        "colab": {
          "base_uri": "https://localhost:8080/",
          "height": 122
        }
      },
      "source": [
        "doc = nlp(review)\n",
        "spacy.displacy.render(doc, style='ent',jupyter=True)"
      ],
      "execution_count": null,
      "outputs": [
        {
          "output_type": "display_data",
          "data": {
            "text/html": [
              "<span class=\"tex2jax_ignore\"><div class=\"entities\" style=\"line-height: 2.5; direction: ltr\">this spend \n",
              "<mark class=\"entity\" style=\"background: #bfe1d9; padding: 0.45em 0.6em; margin: 0 0.25em; line-height: 1; border-radius: 0.35em;\">\n",
              "    20 month\n",
              "    <span style=\"font-size: 0.8em; font-weight: bold; line-height: 1; border-radius: 0.35em; text-transform: uppercase; vertical-align: middle; margin-left: 0.5rem\">DATE</span>\n",
              "</mark>\n",
              " in \n",
              "<mark class=\"entity\" style=\"background: #e4e7d2; padding: 0.45em 0.6em; margin: 0 0.25em; line-height: 1; border-radius: 0.35em;\">\n",
              "    30 %\n",
              "    <span style=\"font-size: 0.8em; font-weight: bold; line-height: 1; border-radius: 0.35em; text-transform: uppercase; vertical-align: middle; margin-left: 0.5rem\">PERCENT</span>\n",
              "</mark>\n",
              " new \n",
              "<mark class=\"entity\" style=\"background: #c887fb; padding: 0.45em 0.6em; margin: 0 0.25em; line-height: 1; border-radius: 0.35em;\">\n",
              "    french\n",
              "    <span style=\"font-size: 0.8em; font-weight: bold; line-height: 1; border-radius: 0.35em; text-transform: uppercase; vertical-align: middle; margin-left: 0.5rem\">NORP</span>\n",
              "</mark>\n",
              " oak , and incorporate fruit from \n",
              "<mark class=\"entity\" style=\"background: #7aecec; padding: 0.45em 0.6em; margin: 0 0.25em; line-height: 1; border-radius: 0.35em;\">\n",
              "    Ponzi\n",
              "    <span style=\"font-size: 0.8em; font-weight: bold; line-height: 1; border-radius: 0.35em; text-transform: uppercase; vertical-align: middle; margin-left: 0.5rem\">ORG</span>\n",
              "</mark>\n",
              " 's Aurora , \n",
              "<mark class=\"entity\" style=\"background: #feca74; padding: 0.45em 0.6em; margin: 0 0.25em; line-height: 1; border-radius: 0.35em;\">\n",
              "    Abetina\n",
              "    <span style=\"font-size: 0.8em; font-weight: bold; line-height: 1; border-radius: 0.35em; text-transform: uppercase; vertical-align: middle; margin-left: 0.5rem\">GPE</span>\n",
              "</mark>\n",
              " and \n",
              "<mark class=\"entity\" style=\"background: #feca74; padding: 0.45em 0.6em; margin: 0 0.25em; line-height: 1; border-radius: 0.35em;\">\n",
              "    Madrona vineyard\n",
              "    <span style=\"font-size: 0.8em; font-weight: bold; line-height: 1; border-radius: 0.35em; text-transform: uppercase; vertical-align: middle; margin-left: 0.5rem\">GPE</span>\n",
              "</mark>\n",
              " , among other . aromatic , dense and toasty , -pron- deftly blend aroma and flavor of toast , cigar box , \n",
              "<mark class=\"entity\" style=\"background: #7aecec; padding: 0.45em 0.6em; margin: 0 0.25em; line-height: 1; border-radius: 0.35em;\">\n",
              "    blackberry\n",
              "    <span style=\"font-size: 0.8em; font-weight: bold; line-height: 1; border-radius: 0.35em; text-transform: uppercase; vertical-align: middle; margin-left: 0.5rem\">ORG</span>\n",
              "</mark>\n",
              " , black cherry , coffee and graphite . tannin be \n",
              "<mark class=\"entity\" style=\"background: #c887fb; padding: 0.45em 0.6em; margin: 0 0.25em; line-height: 1; border-radius: 0.35em;\">\n",
              "    polish\n",
              "    <span style=\"font-size: 0.8em; font-weight: bold; line-height: 1; border-radius: 0.35em; text-transform: uppercase; vertical-align: middle; margin-left: 0.5rem\">NORP</span>\n",
              "</mark>\n",
              " to a fine sheen , and frame a finish load with dark chocolate and espresso . drink now through \n",
              "<mark class=\"entity\" style=\"background: #bfe1d9; padding: 0.45em 0.6em; margin: 0 0.25em; line-height: 1; border-radius: 0.35em;\">\n",
              "    2032\n",
              "    <span style=\"font-size: 0.8em; font-weight: bold; line-height: 1; border-radius: 0.35em; text-transform: uppercase; vertical-align: middle; margin-left: 0.5rem\">DATE</span>\n",
              "</mark>\n",
              " .</div></span>"
            ],
            "text/plain": [
              "<IPython.core.display.HTML object>"
            ]
          },
          "metadata": {
            "tags": []
          }
        }
      ]
    },
    {
      "cell_type": "code",
      "metadata": {
        "id": "J2K8RcT71TPl",
        "outputId": "a329f363-5419-4bb7-ff29-a9693a5280f8",
        "colab": {
          "base_uri": "https://localhost:8080/",
          "height": 1000
        }
      },
      "source": [
        "# POS tagging\n",
        "for i in nlp(review):\n",
        "    print(i,\"=>\",i.pos_)"
      ],
      "execution_count": null,
      "outputs": [
        {
          "output_type": "stream",
          "text": [
            "this => DET\n",
            "spend => VERB\n",
            "20 => NUM\n",
            "month => NOUN\n",
            "in => ADP\n",
            "30 => NUM\n",
            "% => NOUN\n",
            "new => ADJ\n",
            "french => ADJ\n",
            "oak => NOUN\n",
            ", => PUNCT\n",
            "and => CCONJ\n",
            "incorporate => VERB\n",
            "fruit => NOUN\n",
            "from => ADP\n",
            "Ponzi => PROPN\n",
            "'s => PART\n",
            "Aurora => PROPN\n",
            ", => PUNCT\n",
            "Abetina => PROPN\n",
            "and => CCONJ\n",
            "Madrona => PROPN\n",
            "vineyard => NOUN\n",
            ", => PUNCT\n",
            "among => ADP\n",
            "other => ADJ\n",
            ". => PUNCT\n",
            "aromatic => ADJ\n",
            ", => PUNCT\n",
            "dense => ADJ\n",
            "and => CCONJ\n",
            "toasty => ADJ\n",
            ", => PUNCT\n",
            "-pron- => X\n",
            "deftly => ADV\n",
            "blend => VERB\n",
            "aroma => NOUN\n",
            "and => CCONJ\n",
            "flavor => NOUN\n",
            "of => ADP\n",
            "toast => NOUN\n",
            ", => PUNCT\n",
            "cigar => PROPN\n",
            "box => PROPN\n",
            ", => PUNCT\n",
            "blackberry => PROPN\n",
            ", => PUNCT\n",
            "black => ADJ\n",
            "cherry => NOUN\n",
            ", => PUNCT\n",
            "coffee => NOUN\n",
            "and => CCONJ\n",
            "graphite => NOUN\n",
            ". => PUNCT\n",
            "tannin => NOUN\n",
            "be => VERB\n",
            "polish => ADJ\n",
            "to => ADP\n",
            "a => DET\n",
            "fine => ADJ\n",
            "sheen => NOUN\n",
            ", => PUNCT\n",
            "and => CCONJ\n",
            "frame => VERB\n",
            "a => DET\n",
            "finish => NOUN\n",
            "load => NOUN\n",
            "with => ADP\n",
            "dark => ADJ\n",
            "chocolate => NOUN\n",
            "and => CCONJ\n",
            "espresso => NOUN\n",
            ". => PUNCT\n",
            "drink => VERB\n",
            "now => ADV\n",
            "through => ADP\n",
            "2032 => NUM\n",
            ". => PUNCT\n"
          ],
          "name": "stdout"
        }
      ]
    },
    {
      "cell_type": "code",
      "metadata": {
        "id": "bVHAmS5B2PFf"
      },
      "source": [
        "# Parser for reviews\n",
        "parser = English()\n",
        "def spacy_tokenizer(sentence):\n",
        "    mytokens = parser(sentence)\n",
        "    mytokens = [ word.lemma_.lower().strip() if word.lemma_ != \"-PRON-\" else word.lower_ for word in mytokens ]\n",
        "    mytokens = [ word for word in mytokens if word not in stopwords and word not in punctuations ]\n",
        "    mytokens = \" \".join([i for i in mytokens])\n",
        "    return mytokens"
      ],
      "execution_count": null,
      "outputs": []
    },
    {
      "cell_type": "code",
      "metadata": {
        "id": "vr89yLgE2YSO",
        "outputId": "4e3e3076-ead7-46ed-cbf3-1492d27506d4",
        "colab": {
          "base_uri": "https://localhost:8080/",
          "height": 34
        }
      },
      "source": [
        "tqdm.pandas()\n",
        "wines[\"processed_description\"] = wines[\"description\"].progress_apply(spacy_tokenizer)"
      ],
      "execution_count": null,
      "outputs": [
        {
          "output_type": "stream",
          "text": [
            "100%|██████████| 150930/150930 [01:01<00:00, 2474.23it/s]\n"
          ],
          "name": "stderr"
        }
      ]
    },
    {
      "cell_type": "code",
      "metadata": {
        "id": "Fev3-u7Q2b4H"
      },
      "source": [
        "# Creating a vectorizer\n",
        "vectorizer = CountVectorizer(min_df=5, max_df=0.9, stop_words='english', lowercase=True, token_pattern='[a-zA-Z\\-][a-zA-Z\\-]{2,}')\n",
        "data_vectorized = vectorizer.fit_transform(wines[\"processed_description\"])"
      ],
      "execution_count": null,
      "outputs": []
    },
    {
      "cell_type": "code",
      "metadata": {
        "id": "suWgPL7H3MWA"
      },
      "source": [
        "NUM_TOPICS = 10"
      ],
      "execution_count": null,
      "outputs": []
    },
    {
      "cell_type": "code",
      "metadata": {
        "id": "pacx_Vg43SOo",
        "outputId": "2cadce56-e556-400b-de56-36a1806b63d1",
        "colab": {
          "base_uri": "https://localhost:8080/",
          "height": 191
        }
      },
      "source": [
        "# Latent Dirichlet Allocation Model\n",
        "lda = LatentDirichletAllocation(n_components=NUM_TOPICS, max_iter=10, learning_method='online',verbose=True)\n",
        "data_lda = lda.fit_transform(data_vectorized)"
      ],
      "execution_count": null,
      "outputs": [
        {
          "output_type": "stream",
          "text": [
            "iteration: 1 of max_iter: 10\n",
            "iteration: 2 of max_iter: 10\n",
            "iteration: 3 of max_iter: 10\n",
            "iteration: 4 of max_iter: 10\n",
            "iteration: 5 of max_iter: 10\n",
            "iteration: 6 of max_iter: 10\n",
            "iteration: 7 of max_iter: 10\n",
            "iteration: 8 of max_iter: 10\n",
            "iteration: 9 of max_iter: 10\n",
            "iteration: 10 of max_iter: 10\n"
          ],
          "name": "stdout"
        }
      ]
    },
    {
      "cell_type": "code",
      "metadata": {
        "id": "m5Dz03UA3oPI"
      },
      "source": [
        "# Functions for printing keywords for each topic\n",
        "def selected_topics(model, vectorizer, top_n=10):\n",
        "    for idx, topic in enumerate(model.components_):\n",
        "        print(\"Topic %d:\" % (idx))\n",
        "        print([(vectorizer.get_feature_names()[i], topic[i])\n",
        "                        for i in topic.argsort()[:-top_n - 1:-1]])"
      ],
      "execution_count": null,
      "outputs": []
    },
    {
      "cell_type": "code",
      "metadata": {
        "id": "r_79POIT5nBV",
        "outputId": "13194b35-5864-4396-d759-a1519c5fe23d",
        "colab": {
          "base_uri": "https://localhost:8080/",
          "height": 402
        }
      },
      "source": [
        "# Keywords for topics clustered by Latent Dirichlet Allocation\n",
        "print(\"LDA Model:\")\n",
        "selected_topics(lda, vectorizer)"
      ],
      "execution_count": null,
      "outputs": [
        {
          "output_type": "stream",
          "text": [
            "LDA Model:\n",
            "Topic 0:\n",
            "[('flavors', 18025.224734528314), ('oak', 13842.25675562436), ('fruit', 11005.816421345886), ('cherry', 7853.444661170265), ('blackberry', 7212.664936165386), ('tannins', 7209.087172705971), ('chocolate', 7124.983385902619), ('finish', 5446.193641575372), ('cherries', 5355.749068622052), ('tannic', 5341.089643199956)]\n",
            "Topic 1:\n",
            "[('green', 11616.470138415712), ('flavors', 8587.40195207835), ('palate', 8293.282037008383), ('aromas', 7709.27082126023), ('apple', 6415.136062575027), ('nose', 6034.275411806288), ('finish', 5954.10212157823), ('citrus', 5348.4921188029275), ('lime', 5229.540637184832), ('fresh', 5220.739871322384)]\n",
            "Topic 2:\n",
            "[('vineyard', 5438.345382683172), ('oak', 5196.076415854352), ('chardonnay', 4988.167292140623), ('best', 3719.3648458501707), ('new', 3223.510864909686), ('valley', 2687.9010921093077), ('vanilla', 2271.4857192292075), ('bottling', 2123.874595733775), ('pie', 2039.8578588477822), ('buttered', 2015.0960495474424)]\n",
            "Topic 3:\n",
            "[('blend', 9505.989550241698), ('cabernet', 8638.78979539449), ('sauvignon', 8618.721150377147), ('merlot', 5313.263764961683), ('wines', 5169.577263332331), ('price', 4058.751601496292), ('blanc', 3932.335497777201), ('soft', 2871.914963668699), ('franc', 2646.198877667485), ('bordeaux', 2479.6565826995034)]\n",
            "Topic 4:\n",
            "[('wine', 16490.269651943672), ('fruit', 11682.957271686026), ('acidity', 11117.09854408762), ('flavors', 10461.745373160245), ('crisp', 10081.051950554276), ('white', 8953.149659213781), ('peach', 8913.450196824317), ('finish', 7217.497971202222), ('citrus', 7192.143963462395), ('pear', 6824.7903750917485)]\n",
            "Topic 5:\n",
            "[('flavors', 15859.772170809687), ('sweet', 13000.680900076744), ('finish', 10022.710775229001), ('like', 9247.664949234755), ('palate', 8151.315896733599), ('aromas', 7792.50101255156), ('berry', 6193.094283816911), ('soft', 5769.953788538581), ('slightly', 5558.418109460242), ('alcohol', 5505.879088709989)]\n",
            "Topic 6:\n",
            "[('flavors', 17047.125038099395), ('dry', 15626.045804966569), ('wine', 15343.852363798365), ('good', 12893.957200633844), ('pinot', 9530.56458845336), ('acidity', 8251.210715033965), ('little', 7961.303091731369), ('drink', 6891.229332738753), ('fruity', 5225.852438847432), ('cherry', 4830.79244504186)]\n",
            "Topic 7:\n",
            "[('cherry', 15693.040822349341), ('aromas', 15017.160884398632), ('spice', 13948.063070562002), ('fruit', 13210.899590056773), ('black', 13161.66970671359), ('wine', 10321.918764098355), ('tannins', 10004.562144383983), ('berry', 9070.360009427448), ('notes', 9061.327180012524), ('finish', 9011.87938492605)]\n",
            "Topic 8:\n",
            "[('wine', 32507.494589778984), ('tannins', 14518.300615200966), ('fruit', 14247.714807355991), ('years', 13033.501825312112), ('ripe', 10644.957483520506), ('acidity', 9202.001809130934), ('fruits', 9200.65525472429), ('rich', 8280.774328168523), ('wood', 7632.854748162308), ('black', 6711.977999410003)]\n",
            "Topic 9:\n",
            "[('wine', 6321.771934588149), ('good', 3969.4609749822644), ('sweet', 3939.690026653741), ('intensity', 3635.9583882929396), ('shows', 3107.167043213313), ('mouthfeel', 3095.3243002584604), ('elegant', 3028.268308086696), ('cola', 2424.447387996679), ('pair', 2146.657639311912), ('ros', 1937.5554181907814)]\n"
          ],
          "name": "stdout"
        }
      ]
    },
    {
      "cell_type": "code",
      "metadata": {
        "id": "Hw32UAGL5qo4",
        "outputId": "3f9bc9c7-af21-430b-91ce-693d8a778628",
        "colab": {
          "base_uri": "https://localhost:8080/",
          "height": 52
        }
      },
      "source": [
        "# Transforming an individual sentence\n",
        "text = spacy_tokenizer(\"Aromas include tropical fruit, broom, brimstone and dried herb. The palate isn't overly expressive, offering unripened apple, citrus and dried sage alongside brisk acidity.\")\n",
        "x = lda.transform(vectorizer.transform([text]))[0]\n",
        "print(x)"
      ],
      "execution_count": null,
      "outputs": [
        {
          "output_type": "stream",
          "text": [
            "[0.0050002  0.00500178 0.00500075 0.00500001 0.3576935  0.13095929\n",
            " 0.00500038 0.47634377 0.0050003  0.00500002]\n"
          ],
          "name": "stdout"
        }
      ]
    },
    {
      "cell_type": "code",
      "metadata": {
        "id": "Vvd28CjD5xOJ",
        "outputId": "8104b34f-ac41-4628-b21f-704aa592ebfc",
        "colab": {
          "base_uri": "https://localhost:8080/",
          "height": 861
        }
      },
      "source": [
        "pyLDAvis.enable_notebook()\n",
        "dash = pyLDAvis.sklearn.prepare(lda, data_vectorized, vectorizer, mds='tsne')\n",
        "dash"
      ],
      "execution_count": null,
      "outputs": [
        {
          "output_type": "execute_result",
          "data": {
            "text/html": [
              "\n",
              "<link rel=\"stylesheet\" type=\"text/css\" href=\"https://cdn.rawgit.com/bmabey/pyLDAvis/files/ldavis.v1.0.0.css\">\n",
              "\n",
              "\n",
              "<div id=\"ldavis_el7781402454244592328095789407\"></div>\n",
              "<script type=\"text/javascript\">\n",
              "\n",
              "var ldavis_el7781402454244592328095789407_data = {\"mdsDat\": {\"x\": [32.42095184326172, 0.648955225944519, 71.01968383789062, 3.7859814167022705, -42.666500091552734, -3.6216893196105957, -3.632401704788208, -36.58440017700195, 44.391380310058594, 40.235809326171875], \"y\": [8.115229606628418, 71.70709991455078, 9.971006393432617, 33.18513488769531, -9.22206974029541, -43.52651596069336, -4.171707630157471, 35.804412841796875, 50.61538314819336, -31.591665267944336], \"topics\": [1, 2, 3, 4, 5, 6, 7, 8, 9, 10], \"cluster\": [1, 1, 1, 1, 1, 1, 1, 1, 1, 1], \"Freq\": [16.74279611089057, 14.126032688961482, 12.957978291171898, 12.807489586969806, 10.099722033569734, 9.54301989169806, 8.42945168626365, 5.29085342882413, 5.011289372308563, 4.991366909342108]}, \"tinfo\": {\"Term\": [\"wine\", \"sweet\", \"oak\", \"blend\", \"good\", \"dry\", \"aromas\", \"tannins\", \"cabernet\", \"flavors\", \"green\", \"palate\", \"years\", \"sauvignon\", \"acidity\", \"finish\", \"black\", \"cherry\", \"like\", \"pinot\", \"crisp\", \"citrus\", \"apple\", \"berry\", \"soft\", \"merlot\", \"nose\", \"little\", \"peach\", \"vineyard\", \"tobacco\", \"leather\", \"wild\", \"roasted\", \"peppery\", \"mint\", \"close\", \"sangiovese\", \"backed\", \"clove\", \"velvety\", \"espresso\", \"heat\", \"forest\", \"plush\", \"refined\", \"especially\", \"petite\", \"minerals\", \"sirah\", \"violets\", \"leafy\", \"bean\", \"leading\", \"brunello\", \"form\", \"menthol\", \"violet\", \"blue\", \"terms\", \"earth\", \"chewy\", \"blueberry\", \"smoke\", \"spice\", \"dried\", \"pepper\", \"meat\", \"black\", \"cherry\", \"aromas\", \"berry\", \"notes\", \"offers\", \"plum\", \"dark\", \"opens\", \"red\", \"tannins\", \"palate\", \"fruit\", \"finish\", \"licorice\", \"blackberry\", \"soft\", \"chocolate\", \"wine\", \"mouth\", \"nose\", \"smooth\", \"ripe\", \"shows\", \"drink\", \"peach\", \"pear\", \"honey\", \"sweetness\", \"apricot\", \"almond\", \"sugar\", \"refreshing\", \"body\", \"apples\", \"peaches\", \"flavored\", \"fragrant\", \"extra\", \"honeysuckle\", \"tangerine\", \"honeyed\", \"pears\", \"streak\", \"pineapples\", \"mango\", \"buttery\", \"cream\", \"residual\", \"decent\", \"personality\", \"golden\", \"profile\", \"italy\", \"apricots\", \"riesling\", \"floral\", \"white\", \"citrusy\", \"zest\", \"crisp\", \"orange\", \"creamy\", \"yellow\", \"pineapple\", \"stone\", \"citrus\", \"mineral\", \"lemon\", \"acidity\", \"tropical\", \"apple\", \"fresh\", \"wine\", \"light\", \"fruit\", \"clean\", \"sweet\", \"flavors\", \"finish\", \"bright\", \"touch\", \"notes\", \"ripe\", \"mouth\", \"aromas\", \"soft\", \"years\", \"wood\", \"age\", \"aging\", \"powerful\", \"right\", \"bottle\", \"needs\", \"cellar\", \"develop\", \"sample\", \"aftertaste\", \"going\", \"certainly\", \"potential\", \"finely\", \"dominate\", \"austere\", \"soften\", \"super\", \"work\", \"need\", \"richer\", \"likely\", \"remains\", \"firmly\", \"superripe\", \"class\", \"fun\", \"youth\", \"layer\", \"packed\", \"fruits\", \"structure\", \"showing\", \"impressive\", \"firm\", \"perfumed\", \"dense\", \"tannins\", \"wine\", \"currant\", \"young\", \"ripe\", \"intense\", \"character\", \"rich\", \"great\", \"fruit\", \"acidity\", \"barrel\", \"black\", \"juicy\", \"shows\", \"concentrated\", \"dry\", \"flavors\", \"drink\", \"dark\", \"red\", \"cab\", \"hard\", \"toasty\", \"forward\", \"oaky\", \"raspberries\", \"despite\", \"expression\", \"excellent\", \"modern\", \"tough\", \"shiraz\", \"fig\", \"loaded\", \"mountain\", \"rough\", \"chocolaty\", \"tar\", \"want\", \"rhubarb\", \"reserve\", \"softly\", \"vintages\", \"oaked\", \"tempranillo\", \"washington\", \"suggesting\", \"sort\", \"tasted\", \"help\", \"blackberries\", \"zin\", \"oak\", \"spices\", \"cassis\", \"cola\", \"tannic\", \"cherries\", \"chocolate\", \"blackberry\", \"acids\", \"flavors\", \"lush\", \"pure\", \"new\", \"cherry\", \"fruit\", \"tannins\", \"plenty\", \"big\", \"bit\", \"rich\", \"black\", \"coffee\", \"finish\", \"drink\", \"ripe\", \"cabernet\", \"vanilla\", \"long\", \"wine\", \"little\", \"noir\", \"tones\", \"attractive\", \"value\", \"wrapped\", \"rounded\", \"bone\", \"element\", \"level\", \"drinkable\", \"aroma\", \"screwcap\", \"maybe\", \"intensely\", \"barbecue\", \"selection\", \"immediately\", \"term\", \"dominant\", \"coming\", \"distinctive\", \"raisins\", \"totally\", \"takes\", \"mellow\", \"herbaceous\", \"table\", \"touched\", \"elegantly\", \"pinot\", \"gives\", \"good\", \"weight\", \"silky\", \"dry\", \"caramel\", \"nice\", \"fruity\", \"gentle\", \"better\", \"smoky\", \"high\", \"spicy\", \"flavors\", \"drink\", \"acidity\", \"wine\", \"texture\", \"great\", \"delicious\", \"cherries\", \"crisp\", \"red\", \"rich\", \"light\", \"cherry\", \"complex\", \"fine\", \"raspberry\", \"spice\", \"alcohol\", \"tastes\", \"candied\", \"jam\", \"pleasant\", \"hot\", \"chard\", \"smells\", \"prune\", \"turns\", \"raisin\", \"burnt\", \"sugary\", \"slight\", \"minty\", \"syrupy\", \"leathery\", \"flat\", \"raisiny\", \"rubbery\", \"overripe\", \"smelling\", \"mildly\", \"relatively\", \"medicinal\", \"sparkler\", \"overly\", \"generic\", \"pleasure\", \"boysenberry\", \"like\", \"slightly\", \"herbal\", \"feels\", \"heavy\", \"sweet\", \"baked\", \"simple\", \"bit\", \"finish\", \"flavors\", \"palate\", \"berry\", \"soft\", \"feel\", \"aromas\", \"nose\", \"plum\", \"raspberry\", \"solid\", \"fruit\", \"mouth\", \"cherry\", \"red\", \"wine\", \"green\", \"overall\", \"taste\", \"sour\", \"acidic\", \"candy\", \"lot\", \"minerally\", \"blossom\", \"grass\", \"rubber\", \"grassy\", \"nutty\", \"vegetal\", \"kiwi\", \"priced\", \"chicken\", \"sturdy\", \"luminous\", \"seafood\", \"pale\", \"citric\", \"base\", \"salmon\", \"roast\", \"bread\", \"brut\", \"look\", \"watery\", \"informal\", \"lime\", \"lean\", \"banana\", \"apple\", \"melon\", \"flowers\", \"imported\", \"citrus\", \"wet\", \"nose\", \"clean\", \"palate\", \"round\", \"grapefruit\", \"fresh\", \"easy\", \"aromas\", \"drinking\", \"tart\", \"simple\", \"finishes\", \"flavors\", \"finish\", \"like\", \"lemon\", \"fruit\", \"notes\", \"white\", \"valley\", \"bottling\", \"buttered\", \"california\", \"napa\", \"butterscotch\", \"fermented\", \"single\", \"grown\", \"luscious\", \"flavorful\", \"appellation\", \"fare\", \"root\", \"bring\", \"beer\", \"production\", \"pungent\", \"lees\", \"near\", \"steel\", \"complete\", \"sourced\", \"custard\", \"winemaking\", \"santa\", \"entirely\", \"river\", \"accessible\", \"stainless\", \"vineyard\", \"chardonnay\", \"pie\", \"best\", \"winery\", \"new\", \"estate\", \"oak\", \"complex\", \"vanilla\", \"aged\", \"offering\", \"interesting\", \"cases\", \"barrel\", \"cinnamon\", \"fine\", \"rich\", \"pineapple\", \"sauvignon\", \"wines\", \"price\", \"blanc\", \"franc\", \"bordeaux\", \"integrated\", \"petit\", \"verdot\", \"region\", \"sparkling\", \"worth\", \"quickly\", \"background\", \"stage\", \"deliciously\", \"known\", \"early\", \"cru\", \"edges\", \"walla\", \"northern\", \"south\", \"produce\", \"stemmy\", \"chenin\", \"lavender\", \"cracker\", \"nuance\", \"mainly\", \"cabernet\", \"blend\", \"merlot\", \"grapes\", \"vineyards\", \"quality\", \"world\", \"effort\", \"old\", \"varietal\", \"soft\", \"syrah\", \"good\", \"imported\", \"wine\", \"grape\", \"style\", \"elegant\", \"hints\", \"intensity\", \"ros\", \"olive\", \"natural\", \"tasty\", \"steak\", \"smoked\", \"perfectly\", \"meats\", \"wonderful\", \"ruby\", \"dre\", \"mourv\", \"astringency\", \"choice\", \"burst\", \"balancing\", \"traditional\", \"buy\", \"filled\", \"stand\", \"tang\", \"stalky\", \"pork\", \"reds\", \"rock\", \"marmalade\", \"cheeses\", \"continues\", \"indian\", \"pairing\", \"grenache\", \"perfect\", \"try\", \"elegant\", \"pair\", \"lovely\", \"mouthfeel\", \"interesting\", \"cola\", \"good\", \"sweet\", \"shows\", \"color\", \"wine\", \"food\", \"hold\", \"strawberry\", \"followed\", \"beautiful\", \"blend\", \"length\"], \"Freq\": [91232.0, 23002.0, 20990.0, 13537.0, 18872.0, 25554.0, 34882.0, 31765.0, 11633.0, 77744.0, 11431.0, 27653.0, 13009.0, 8783.0, 30286.0, 37394.0, 25247.0, 32314.0, 12146.0, 9408.0, 14020.0, 12482.0, 11576.0, 18055.0, 18026.0, 7469.0, 16262.0, 7747.0, 8947.0, 6164.0, 6629.55394517873, 6050.915275634355, 4252.666575532981, 3216.0762590126674, 3189.8638252881547, 2820.6793074257484, 2717.397950921825, 2387.8713328134686, 2286.3010725702393, 2193.132541067576, 2043.9964577626981, 1795.6616754363388, 1642.0576244489537, 1589.7150852513885, 1443.1118411867517, 1329.5095707696264, 1295.2835671089883, 1223.5210725875206, 1150.3219668787613, 1129.510985855587, 1098.3136233167527, 1024.0564327631118, 1021.8174564254234, 977.1308815916562, 963.5333135366037, 956.4686882212551, 951.4006962698716, 944.2251777505769, 871.6800641549539, 802.1407827676056, 4439.722358446569, 2587.6062277079304, 2726.3722066602477, 3326.9022049088308, 14636.545756153133, 4394.58750687934, 6505.057461405266, 2537.128448137822, 13811.335661097353, 16467.656396985323, 15758.414720385786, 9518.077071429332, 9508.598377479482, 5693.925539225831, 6939.657230024827, 6558.309051549605, 3041.544539828889, 8328.801383888007, 10498.391845216509, 8987.495569292381, 13862.99555369157, 9456.709816920018, 3570.4609271474555, 5677.254612914363, 5777.743115590842, 4822.49124805988, 10831.41333084995, 4704.199232869472, 5031.9489804622535, 3731.7321800340333, 4357.032645447639, 3973.3463301482275, 3612.8267486965624, 8946.13319670834, 6849.814873811344, 5241.824572045203, 3923.3784890288125, 3890.340471149463, 3250.585543243312, 2785.468539768842, 2546.0056347387126, 2340.052332343034, 2008.0201439820537, 1979.0251019841814, 1752.6914638085832, 1683.1663986033727, 1618.4438787467336, 1612.9420233788803, 1589.2028744598153, 1462.8889184753232, 1402.959876399837, 1312.4581396341455, 1302.755813507662, 1252.623961218017, 1243.7307772817874, 1928.715566866809, 1232.0809392897434, 1193.2756089930745, 1163.6482715274954, 1160.7712643983614, 1160.8094835827987, 1109.5975484277037, 1100.6954406195805, 2407.996071572084, 3551.279598311724, 8985.97822534836, 1826.4662441901212, 1882.9177061497592, 10118.01620260655, 3792.677856773403, 5074.118181387964, 2018.8833534768921, 4246.069449195306, 2970.8740256854257, 7218.515439729517, 4468.546281817853, 4090.3503941305503, 11157.861674234075, 3080.183004892141, 5263.513102836619, 6434.108980560163, 16550.73461996627, 4811.446402992139, 11725.795239333123, 4172.021184324912, 6410.730455775404, 10500.10551600813, 7243.96241315757, 3980.330157609837, 3889.527957384674, 4946.700283738491, 4483.2437201196635, 3846.8127875775904, 3994.596491361337, 3730.0735725481522, 13008.932747686367, 7618.466274264261, 6122.744836801447, 5254.702777708352, 3945.1146250501683, 3663.7893714562665, 3539.2713527623746, 3122.5290088667784, 2557.195721421422, 2264.254648751736, 2173.9056987148692, 1896.8550980311645, 1597.680791474728, 1439.3310974300211, 1335.0995569906922, 1258.8564219319462, 1232.2259768946653, 1097.9883547967174, 1065.8318999350715, 1037.4999673173538, 980.557306394907, 934.5394302566406, 828.2773431104906, 816.1243875974769, 766.2199539261421, 745.2034903192857, 707.5988807821585, 688.9299175745494, 616.0903346459909, 600.3877235660909, 1088.5209096790497, 2052.2580587716525, 9183.311365400392, 6483.706355408673, 3186.498262187551, 2074.647640904859, 5415.879488620917, 1500.3744122502935, 3742.1827422109823, 14490.932586286737, 32446.215651186772, 3982.8272790693723, 3300.9694730267815, 10624.8909818051, 3211.1884094663483, 4655.863632833843, 8265.164479794932, 4040.611729152915, 14220.856851928265, 9184.655381456238, 3111.5470019709605, 6699.325443657907, 3406.1882931900823, 4852.324032126993, 2963.199845465143, 4877.653985918674, 5584.11793026334, 4137.899911600745, 3565.862851218049, 3614.443052345303, 4312.957899656207, 3994.7754994463203, 3612.066722516412, 3166.47025992675, 2908.0383810423123, 2469.507523204686, 2258.040054639999, 2201.9306133481155, 2015.4201991955167, 1666.5897638474778, 1666.3737349889275, 1471.456979069317, 1270.579535566423, 1253.5898240205495, 1219.852357240114, 1146.9065119094364, 1037.4441539873774, 1036.7564079590811, 979.792230796046, 941.4004440906276, 932.7028969728909, 929.0131221890963, 866.6326942025194, 845.1302589084156, 833.0345472470793, 820.2860239295418, 775.6860284759925, 733.5034473187262, 680.5128810714743, 669.9506409995348, 4422.5086593632805, 1742.172409850199, 13009.638153385858, 2756.6377605335488, 4678.537738419196, 4977.339103869137, 5019.820454825398, 5033.598108545086, 6696.412105043207, 6778.819566614314, 2717.4925101641215, 16940.99853583425, 2142.6990483362893, 2107.933360565387, 2930.5350121020865, 7381.056073674651, 10343.8111105781, 6775.457007399648, 2390.0915744047206, 3014.58548201866, 3400.427890450131, 4439.84204540697, 4736.4352489398425, 2638.954332263233, 5118.602395622922, 4170.25040973671, 4292.972839322278, 2829.954293690038, 2765.459163820143, 2685.662239458725, 2750.7319807173194, 7746.475924114152, 4122.842285375285, 3406.1908648719173, 3289.8026703755104, 1842.1204634245028, 1748.2874889984316, 1701.2423351988864, 1693.8016757260034, 1379.2784474456853, 1278.5279044910392, 1253.6139037996095, 1153.8681146807392, 1100.7530009627508, 949.682142632826, 878.1557027783198, 875.4235042088266, 870.1268955236686, 837.6242505616847, 815.5517064356208, 785.7712720673468, 771.3972367980381, 766.9341660716285, 760.1447337558853, 683.2596926678117, 680.8499014245191, 676.6642772697327, 656.5953610146595, 648.3322824135844, 644.1144250966186, 630.5410005523777, 9273.392593776152, 2404.1188788916456, 12546.027687980733, 3479.576740091073, 3389.1440193775925, 15204.393831331201, 2503.3072866533025, 4624.211455367894, 5084.838453462412, 1077.586568925139, 1836.8423673679833, 3319.122851190132, 2745.4690098709652, 3979.329592161185, 16587.126775785404, 6705.276950082889, 8028.560703233184, 14929.815075471148, 3895.258193964805, 3125.9303967173337, 2704.247186181145, 3038.30445887633, 3901.4188875405366, 4484.602317708782, 4155.165930040137, 3282.3232340685295, 4700.4387270188845, 2563.3636218868555, 2585.4439054669215, 2589.6934095503575, 2577.144688227105, 5329.406187475016, 4754.183089200202, 2871.173771856131, 2691.013123581027, 2589.3114278852554, 2405.322213879651, 1700.1105195377975, 1680.6008561392232, 1570.5174739248162, 1535.665521275874, 1396.889714951017, 1263.174280016847, 1258.1559645667483, 1237.5686025307514, 1157.2966032812171, 1024.1909716851362, 999.5824077881967, 983.1729016439566, 967.7602345484788, 929.5225772325003, 926.3311262638666, 886.6344179099062, 880.4339364057772, 853.3968250000539, 844.3505937145596, 798.7442136746166, 797.9038517757547, 784.7063055371096, 733.7614068263528, 728.1284620111513, 8951.261370996572, 5380.261242182706, 4966.634275470152, 2862.7041883268726, 2917.8803840290243, 12583.986701112019, 2263.9101060528164, 3526.3216027753974, 4676.462788958139, 9701.465644297856, 15351.439175694055, 7890.052192608856, 5994.594952778575, 5585.016838662025, 2319.2920711001293, 7542.73794303896, 4838.389731618986, 4107.558158617542, 3149.0657245844513, 2428.9707908534538, 5272.989121122429, 2861.9270481560798, 3557.6959404558293, 2761.8041113075924, 3371.8451561188385, 11430.333322023256, 2943.9873744268903, 2840.1166139249403, 2654.641909534024, 2505.15726147669, 2029.3689868671827, 2014.6831224850494, 1616.3511673619098, 1066.5825637658263, 1039.1046833045061, 1026.9415177637484, 982.3153291099462, 968.2615447275563, 953.6658806499938, 938.6022469987972, 803.913985532159, 796.9753114823616, 754.7119953779173, 700.7702885996354, 695.9294783943324, 675.1500063127166, 576.0284166450242, 574.8909061079326, 518.0759108388921, 515.3436780318308, 510.57421675354294, 503.4175323810871, 502.79177073877696, 469.9624619419097, 466.5885105312372, 5145.744954520312, 2545.7569144839495, 1175.6301356956365, 6312.342960265636, 3027.2978776416867, 1402.221740247382, 3612.7992401663364, 5262.790413927723, 1012.5785220141333, 5937.58504020412, 3923.676512563717, 8160.394413021083, 2294.066993678901, 2185.6732579309773, 5137.0852079623455, 2822.7641297542077, 7585.741116429229, 1852.9717560905162, 2775.7596443999805, 2488.6379574808084, 2455.14045029209, 8449.801489855647, 5858.696408811745, 3194.8434392942427, 2243.659311463827, 3673.924550420478, 2670.374152333639, 2060.919233778535, 2717.414219856914, 2147.1947180581415, 2037.2217844967597, 1714.6682933082661, 1559.8259497196495, 1351.3470851443305, 1262.1778544249046, 1215.7023194249366, 1220.348851795225, 1195.3804120190935, 1057.9058355252791, 1006.3255501669021, 946.5196504453029, 936.8953818463921, 781.2018384245296, 774.7570417658994, 756.9158222935988, 756.0385971271209, 743.755560263369, 736.7450394722337, 731.7252698481093, 726.9794998429197, 723.6537983513964, 670.4873367545161, 630.6569301197869, 629.9285518638368, 625.1091463617437, 604.8643216889541, 589.6211046340637, 573.0130111756575, 5498.058361886875, 5042.937320305556, 2062.255478221451, 3760.2034355429896, 1960.147523895999, 3258.9049827331282, 1457.94610233893, 5253.129284167706, 1755.1055720506445, 2296.4266102483284, 1051.277698369115, 1038.4482938101064, 997.6174230221962, 872.414505186719, 1079.1877436369869, 1014.8804414727012, 998.5812233929487, 1060.2729171788606, 963.9272306297163, 8782.428384492918, 5267.770160000172, 4135.845057364144, 4007.0277585806734, 2696.4617753323255, 2526.7561133175627, 1751.4825594283448, 1303.788203884357, 1257.614185934355, 1199.0582178829457, 1001.0266857459188, 959.3103051598996, 951.7836129212342, 913.0226588511604, 912.0684724405774, 864.3258657912761, 844.6608448082309, 821.6544488170872, 736.4429195330757, 728.8586645846889, 611.086251733015, 582.4299368013394, 569.1520725416245, 544.8179149327411, 528.3428996330324, 498.7842552083074, 480.2056002227817, 479.4376685036744, 479.4549067793421, 462.3299146533292, 8802.87822090872, 9686.54989436368, 5414.185897133387, 2380.1493847330953, 1324.3198814269756, 2292.3436869879024, 797.4804204630303, 975.930705546701, 1318.0766182374698, 1168.0347908056701, 2926.4651976436467, 1676.9316955119864, 2315.762895431959, 1623.8506084444673, 2496.460032996918, 1066.6142572134393, 1254.4130742171194, 1026.3694188431548, 954.9031135581823, 3672.691288493206, 1957.12990783237, 1904.5669766397614, 1557.2094869687628, 1440.6915506741382, 1321.421033119126, 1317.0015004093677, 1207.0053891102746, 1033.0823712981535, 934.2891676981154, 878.4235077252886, 805.8062786167595, 801.7677563268386, 763.0406970801814, 724.6667989062151, 715.9596396359635, 713.9560086422409, 706.924504655415, 702.8441295762981, 701.6956939892821, 687.5839051028865, 658.3498083469239, 650.9057496055818, 634.6919638626291, 603.7153026974903, 602.3863275745525, 595.5531299642938, 576.7912346845218, 567.2907070656482, 565.787976867671, 724.605278188706, 1491.3985113603387, 1357.9674198730138, 1250.1678188299115, 3058.861913860276, 2168.344620406876, 1593.8377769674078, 3126.5953508224457, 1527.1422914247014, 2448.940788204675, 4009.563142903755, 3979.4914284065812, 3138.5577371418804, 1680.4590550741705, 6385.638731939231, 1290.3815730072936, 1036.0316842346601, 1340.47253140982, 1260.8781103442172, 1066.524997039812, 1357.899747595865, 983.3672249202928], \"Total\": [91232.0, 23002.0, 20990.0, 13537.0, 18872.0, 25554.0, 34882.0, 31765.0, 11633.0, 77744.0, 11431.0, 27653.0, 13009.0, 8783.0, 30286.0, 37394.0, 25247.0, 32314.0, 12146.0, 9408.0, 14020.0, 12482.0, 11576.0, 18055.0, 18026.0, 7469.0, 16262.0, 7747.0, 8947.0, 6164.0, 6630.444746037038, 6051.806063079889, 4253.557420044824, 3216.9671195135866, 3190.754772600611, 2821.570201369931, 2718.288814258833, 2388.7621518369747, 2287.191952190462, 2194.023326860543, 2044.8872670479454, 1796.5524654643211, 1642.9486188653777, 1590.6058391246706, 1444.0026534264584, 1330.400590252656, 1296.1746946716578, 1224.4118791382887, 1151.213257965223, 1130.401782986736, 1099.2044637861845, 1024.947374421904, 1022.7083919153752, 978.0219054708971, 964.4240490084802, 957.3597146969429, 952.2914763132537, 945.1159549047562, 872.5708700795428, 803.0317744147326, 4649.045492591963, 2892.519327598491, 3071.7531138944446, 3878.415506485356, 23287.968406484026, 5705.944384396855, 9445.104955913761, 3115.295168749881, 25247.793342603254, 32314.49537212495, 34882.093657721765, 18055.29882417723, 19717.20631526613, 9940.891579172367, 13315.814432043953, 12326.55455684066, 4199.644639781634, 20156.88749324032, 31765.657072837377, 27653.98421669348, 61193.74793978301, 37394.796600113536, 5718.899978954931, 14630.39270758934, 18026.67231086933, 12568.425608115573, 91232.33835504396, 12814.351631601918, 16262.666456800089, 8883.073539644556, 26116.42958320204, 16190.463503237865, 21408.520395195057, 8947.028537483962, 6850.71021972966, 5242.7199037056425, 3924.273995861345, 3891.2357943205925, 3251.480933986837, 2786.363941218782, 2546.9009882697037, 2340.9478749427653, 2008.9154904658496, 1979.9204555558213, 1753.586987844768, 1684.0617914644608, 1619.3394071964594, 1613.8373312843353, 1590.0982338630586, 1463.7842708171709, 1403.8552251746337, 1313.3537241419265, 1303.6511683654965, 1253.5193073639691, 1244.62629950703, 1930.116689095058, 1232.9762892211681, 1194.1712524370512, 1164.5438238412364, 1161.666590253043, 1161.7051389250805, 1110.4930040535692, 1101.5907847835028, 2472.729927595351, 4021.679590559162, 11756.02326395941, 1938.1148088130033, 2011.6114067677652, 14020.23318307553, 4673.916027763018, 7219.3046205431665, 2282.1764994180885, 6008.9106713053625, 3793.4809501286863, 12482.1027947025, 6922.698380542685, 6334.806621646573, 30286.278860594706, 4392.786587088991, 11576.652996480716, 17322.865287478548, 91232.33835504396, 10786.675128557385, 61193.74793978301, 9036.131603766544, 23002.24932594899, 77744.24200009932, 37394.796600113536, 9408.895110764204, 8966.827000973986, 19717.20631526613, 26116.42958320204, 12814.351631601918, 34882.093657721765, 18026.67231086933, 13009.828698393421, 7619.362209977312, 6123.64074430267, 5255.598676317454, 3946.010593388423, 3664.6854604378304, 3540.1673502366166, 3123.424949463147, 2558.0916664128576, 2265.1505607787003, 2174.801522570847, 1897.7510292573027, 1598.5769134799668, 1440.2270529911036, 1335.9954669401486, 1259.752367592649, 1233.122032338621, 1098.8844009125858, 1066.727817029444, 1038.3961206962717, 981.4535461727829, 935.4353901765433, 829.1734886659345, 817.0203223529857, 767.1160222765105, 746.099429891631, 708.4949588655526, 689.8260919746901, 616.9866211531205, 601.2837086005139, 1091.6108942899352, 2210.9360324593804, 11522.835502878126, 8705.122639079917, 3985.080155134258, 2421.862589195093, 8562.02376085233, 1739.8604162740703, 5479.583438491639, 31765.657072837377, 91232.33835504396, 6413.994554509635, 5102.049675711992, 26116.42958320204, 4950.339892973541, 8776.78002033939, 20822.58108261499, 7167.340844001533, 61193.74793978301, 30286.278860594706, 5073.514023140876, 25247.793342603254, 6650.575388984748, 16190.463503237865, 4983.2927998125615, 25554.5963631828, 77744.24200009932, 21408.520395195057, 12326.55455684066, 20156.88749324032, 4313.859678478483, 3995.677307092022, 3612.9685632551023, 3167.3721030290426, 2908.940186165443, 2470.4093027499457, 2258.9419329885504, 2202.8325968691493, 2016.322144239044, 1667.4916107725203, 1667.2755003935952, 1472.3588045028644, 1271.4814803759944, 1254.4916497514919, 1220.754121887616, 1147.808308176825, 1038.3459011112689, 1037.6582669784993, 980.6940951049081, 942.3023031525098, 933.6047234883802, 929.9149347371995, 867.5345388630825, 846.032096099656, 833.9363574736228, 821.1878469632647, 776.5878712294334, 734.4053433369455, 681.414702359841, 670.8525443041339, 4461.345956006879, 1878.8811795913039, 20990.49411304506, 3485.3787895258542, 6569.680544210365, 7427.080676743608, 8006.79420214319, 8110.097619720603, 12568.425608115573, 14630.39270758934, 4188.6263630066815, 77744.24200009932, 3549.483380231401, 3462.4441934781357, 6190.2406833290315, 32314.49537212495, 61193.74793978301, 31765.657072837377, 4361.166447732165, 6919.666005554455, 9584.009760167004, 20822.58108261499, 25247.793342603254, 5802.954827326926, 37394.796600113536, 21408.520395195057, 26116.42958320204, 11633.632343738203, 14395.977580809064, 9468.894359254276, 91232.33835504396, 7747.374461147709, 4123.743743391445, 3407.089487090846, 3290.701135607389, 1843.018986824739, 1749.1860024532775, 1702.1407805366885, 1694.7001180957952, 1380.1769749889636, 1279.426444393474, 1254.5124082279585, 1154.7666342278894, 1101.6514280997487, 950.580681020471, 879.0542387158865, 876.3219855730794, 871.0254662940597, 838.5227841384499, 816.4502453661971, 786.669816025638, 772.295792174211, 767.8327472914956, 761.0461839744411, 684.1581655840404, 681.7484802613423, 677.562787881245, 657.4938334950899, 649.230784833946, 645.0129125901108, 631.4394776456948, 9408.769288068215, 2727.1602688242397, 18872.04934943447, 4391.268035466146, 4368.163345142838, 25554.5963631828, 3155.5194118216878, 6605.004239792054, 8475.188919707998, 1238.6413652034287, 2669.4328246620225, 6469.236552558814, 4957.913921624941, 8843.823157901108, 77744.24200009932, 21408.520395195057, 30286.278860594706, 91232.33835504396, 10019.615844805914, 7167.340844001533, 6092.881366020401, 8110.097619720603, 14020.23318307553, 20156.88749324032, 20822.58108261499, 10786.675128557385, 32314.49537212495, 6976.45270332586, 8428.648802295254, 9481.491881724234, 23287.968406484026, 5330.305219696163, 4755.0820542877545, 2872.072715105575, 2691.912125251166, 2590.2104558131973, 2406.22118925381, 1701.009715858653, 1681.5002263072195, 1571.4164393900678, 1536.5645066427742, 1397.788625564338, 1264.0731955542553, 1259.054880931198, 1238.4676535857184, 1158.1955631921737, 1025.089893129194, 1000.4813588796144, 984.0718061844894, 968.6591261599141, 930.4214438326129, 927.2300499567589, 887.5333080142739, 881.3328467067284, 854.2959258931284, 845.2494840244282, 799.643359506502, 798.8028353097247, 785.6051931957061, 734.6605650625856, 729.0274845628375, 12146.905464996811, 6915.084187569096, 6637.9789725088585, 3607.926501073451, 3767.874500754939, 23002.24932594899, 3052.587320601522, 6015.766189502448, 9584.009760167004, 37394.796600113536, 77744.24200009932, 27653.98421669348, 18055.29882417723, 18026.67231086933, 4269.819955078625, 34882.093657721765, 16262.666456800089, 13315.814432043953, 9481.491881724234, 5621.514130345895, 61193.74793978301, 12814.351631601918, 32314.49537212495, 20156.88749324032, 91232.33835504396, 11431.230688136586, 2944.8848159930826, 2841.014099787629, 2655.539268907357, 2506.054666783353, 2030.266377223862, 2015.5806043283721, 1617.2485372711792, 1067.479925081271, 1040.0019730102524, 1027.8389420631277, 983.2126495708355, 969.1589197082592, 954.5632106007325, 939.4995957657451, 804.8114120081401, 797.8726745919037, 755.6095803437082, 701.6676810022465, 696.8267925191684, 676.047420141123, 576.9257068019259, 575.7884072450626, 518.973306972573, 516.2411332090468, 511.47159456892376, 504.3148781075323, 503.68927872680825, 470.85977433106933, 467.48585556430726, 5522.89842411083, 2896.8083518528115, 1334.930280455934, 11576.652996480716, 5127.923365727687, 1892.4632741962773, 7057.699929023724, 12482.1027947025, 1283.7153736360879, 16262.666456800089, 9036.131603766544, 27653.98421669348, 4291.948147287933, 4070.9068284371383, 17322.865287478548, 6418.72519652222, 34882.093657721765, 3238.8074861236214, 7034.220237692654, 6015.766189502448, 6030.7874955658135, 77744.24200009932, 37394.796600113536, 12146.905464996811, 6334.806621646573, 61193.74793978301, 19717.20631526613, 11756.02326395941, 2718.3088271047086, 2148.0893466872485, 2038.1163736774429, 1715.5629291743273, 1560.7206004426462, 1352.2417457311358, 1263.072443795131, 1216.596919676878, 1221.2555570252084, 1196.2751232875123, 1058.8005729774773, 1007.2201834215905, 947.4143692115822, 937.790032749702, 782.0965484773443, 775.6516617674581, 757.8104554297654, 756.9333756018941, 744.6501779576648, 737.6397357589569, 732.6198634464004, 727.8742189033901, 724.548402243643, 671.3819566422924, 631.55161387608, 630.8231341526384, 626.003821532739, 605.7589619800525, 590.5158071092843, 573.9075783807513, 6164.86740502473, 6668.47016738262, 2946.1998831778455, 6657.016642281157, 2910.0598052652886, 6190.2406833290315, 2176.392368994071, 20990.49411304506, 6976.45270332586, 14395.977580809064, 2480.616280475915, 2701.0035553746407, 2525.553420760122, 1505.8158741678822, 5073.514023140876, 4134.377058122199, 8428.648802295254, 20822.58108261499, 6008.9106713053625, 8783.322172523374, 5268.664042650517, 4136.738961404576, 4007.9215648390837, 2697.355542156676, 2527.6499205560003, 1752.3764578711202, 1304.6819485092967, 1258.5079278868495, 1199.9520853178333, 1001.9205759991675, 960.2041933919849, 952.6775024018629, 913.9165463570675, 912.9623579188727, 865.2197340958992, 845.5547162039279, 822.548367863984, 737.336792846201, 729.7525656175817, 611.9800441029821, 583.323820696371, 570.0459344649992, 545.7117685544388, 529.2368025501083, 499.6780701803124, 481.09949298199894, 480.3315266375729, 480.3488513084221, 463.22376019675846, 11633.632343738203, 13537.203112139137, 7469.7490637248275, 3292.4186084200596, 1649.8154034521356, 3636.586827907395, 966.0208989707616, 1382.9314347539541, 2719.957358442511, 2197.3217638731485, 18026.67231086933, 6410.979117284784, 18872.04934943447, 7057.699929023724, 91232.33835504396, 2728.31565250392, 8923.821431025997, 6824.617186307179, 5696.950121926136, 3673.5860388438873, 1958.0246116130386, 1905.461768802627, 1558.1042329930385, 1441.5863501108292, 1322.3157620400725, 1317.8962137338797, 1207.900174012545, 1033.9771324007872, 935.1839385314014, 879.318214395901, 806.7009254069231, 802.6624045956888, 763.9354632129723, 725.5615496016023, 716.8544167875045, 714.8508021209991, 707.8192554032021, 703.7389650299125, 702.5904915471461, 688.4786728118191, 659.2446082694424, 651.8005137454077, 635.5866403733829, 604.6101129631714, 603.2811275140666, 596.447924862526, 577.6859223134047, 568.1855067582775, 566.6827013396544, 727.7347286572203, 1757.106678206539, 1883.4971149524342, 1787.4786188932003, 6824.617186307179, 4132.5343914436235, 2648.5221045563812, 7702.222067304087, 2525.553420760122, 7427.080676743608, 18872.04934943447, 23002.24932594899, 16190.463503237865, 4563.866425182948, 91232.33835504396, 3050.1549242550445, 1762.4754783182639, 3470.7280194650425, 3336.4433959469507, 2716.454214922349, 13537.203112139137, 2133.8505861935196], \"Category\": [\"Default\", \"Default\", \"Default\", \"Default\", \"Default\", \"Default\", \"Default\", \"Default\", \"Default\", \"Default\", \"Default\", \"Default\", \"Default\", \"Default\", \"Default\", \"Default\", \"Default\", \"Default\", \"Default\", \"Default\", \"Default\", \"Default\", \"Default\", \"Default\", \"Default\", \"Default\", \"Default\", \"Default\", \"Default\", \"Default\", \"Topic1\", \"Topic1\", \"Topic1\", \"Topic1\", \"Topic1\", \"Topic1\", \"Topic1\", \"Topic1\", \"Topic1\", \"Topic1\", \"Topic1\", \"Topic1\", \"Topic1\", \"Topic1\", \"Topic1\", \"Topic1\", \"Topic1\", \"Topic1\", \"Topic1\", \"Topic1\", \"Topic1\", \"Topic1\", \"Topic1\", \"Topic1\", \"Topic1\", \"Topic1\", \"Topic1\", \"Topic1\", \"Topic1\", \"Topic1\", \"Topic1\", \"Topic1\", \"Topic1\", \"Topic1\", \"Topic1\", \"Topic1\", \"Topic1\", \"Topic1\", \"Topic1\", \"Topic1\", \"Topic1\", \"Topic1\", \"Topic1\", \"Topic1\", \"Topic1\", \"Topic1\", \"Topic1\", \"Topic1\", \"Topic1\", \"Topic1\", \"Topic1\", \"Topic1\", \"Topic1\", \"Topic1\", \"Topic1\", \"Topic1\", \"Topic1\", \"Topic1\", \"Topic1\", \"Topic1\", \"Topic1\", \"Topic1\", \"Topic1\", \"Topic2\", \"Topic2\", \"Topic2\", \"Topic2\", \"Topic2\", \"Topic2\", \"Topic2\", \"Topic2\", \"Topic2\", \"Topic2\", \"Topic2\", \"Topic2\", \"Topic2\", \"Topic2\", \"Topic2\", \"Topic2\", \"Topic2\", \"Topic2\", \"Topic2\", \"Topic2\", \"Topic2\", \"Topic2\", \"Topic2\", \"Topic2\", \"Topic2\", \"Topic2\", \"Topic2\", \"Topic2\", \"Topic2\", \"Topic2\", \"Topic2\", \"Topic2\", \"Topic2\", \"Topic2\", \"Topic2\", \"Topic2\", \"Topic2\", \"Topic2\", \"Topic2\", \"Topic2\", \"Topic2\", \"Topic2\", \"Topic2\", \"Topic2\", \"Topic2\", \"Topic2\", \"Topic2\", \"Topic2\", \"Topic2\", \"Topic2\", \"Topic2\", \"Topic2\", \"Topic2\", \"Topic2\", \"Topic2\", \"Topic2\", \"Topic2\", \"Topic2\", \"Topic2\", \"Topic2\", \"Topic2\", \"Topic2\", \"Topic3\", \"Topic3\", \"Topic3\", \"Topic3\", \"Topic3\", \"Topic3\", \"Topic3\", \"Topic3\", \"Topic3\", \"Topic3\", \"Topic3\", \"Topic3\", \"Topic3\", \"Topic3\", \"Topic3\", \"Topic3\", \"Topic3\", \"Topic3\", \"Topic3\", \"Topic3\", \"Topic3\", \"Topic3\", \"Topic3\", \"Topic3\", \"Topic3\", \"Topic3\", \"Topic3\", \"Topic3\", \"Topic3\", \"Topic3\", \"Topic3\", \"Topic3\", \"Topic3\", \"Topic3\", \"Topic3\", \"Topic3\", \"Topic3\", \"Topic3\", \"Topic3\", \"Topic3\", \"Topic3\", \"Topic3\", \"Topic3\", \"Topic3\", \"Topic3\", \"Topic3\", \"Topic3\", \"Topic3\", \"Topic3\", \"Topic3\", \"Topic3\", \"Topic3\", \"Topic3\", \"Topic3\", \"Topic3\", \"Topic3\", \"Topic3\", \"Topic3\", \"Topic3\", \"Topic3\", \"Topic4\", \"Topic4\", \"Topic4\", \"Topic4\", \"Topic4\", \"Topic4\", \"Topic4\", \"Topic4\", \"Topic4\", \"Topic4\", \"Topic4\", \"Topic4\", \"Topic4\", \"Topic4\", \"Topic4\", \"Topic4\", \"Topic4\", \"Topic4\", \"Topic4\", \"Topic4\", \"Topic4\", \"Topic4\", \"Topic4\", \"Topic4\", \"Topic4\", \"Topic4\", \"Topic4\", \"Topic4\", \"Topic4\", \"Topic4\", \"Topic4\", \"Topic4\", \"Topic4\", \"Topic4\", \"Topic4\", \"Topic4\", \"Topic4\", \"Topic4\", \"Topic4\", \"Topic4\", \"Topic4\", \"Topic4\", \"Topic4\", \"Topic4\", \"Topic4\", \"Topic4\", \"Topic4\", \"Topic4\", \"Topic4\", \"Topic4\", \"Topic4\", \"Topic4\", \"Topic4\", \"Topic4\", \"Topic4\", \"Topic4\", \"Topic4\", \"Topic4\", \"Topic4\", \"Topic4\", \"Topic4\", \"Topic5\", \"Topic5\", \"Topic5\", \"Topic5\", \"Topic5\", \"Topic5\", \"Topic5\", \"Topic5\", \"Topic5\", \"Topic5\", \"Topic5\", \"Topic5\", \"Topic5\", \"Topic5\", \"Topic5\", \"Topic5\", \"Topic5\", \"Topic5\", \"Topic5\", \"Topic5\", \"Topic5\", \"Topic5\", \"Topic5\", \"Topic5\", \"Topic5\", \"Topic5\", \"Topic5\", \"Topic5\", \"Topic5\", \"Topic5\", \"Topic5\", \"Topic5\", \"Topic5\", \"Topic5\", \"Topic5\", \"Topic5\", \"Topic5\", \"Topic5\", \"Topic5\", \"Topic5\", \"Topic5\", \"Topic5\", \"Topic5\", \"Topic5\", \"Topic5\", \"Topic5\", \"Topic5\", \"Topic5\", \"Topic5\", \"Topic5\", \"Topic5\", \"Topic5\", \"Topic5\", \"Topic5\", \"Topic5\", \"Topic5\", \"Topic5\", \"Topic5\", \"Topic5\", \"Topic5\", \"Topic5\", \"Topic6\", \"Topic6\", \"Topic6\", \"Topic6\", \"Topic6\", \"Topic6\", \"Topic6\", \"Topic6\", \"Topic6\", \"Topic6\", \"Topic6\", \"Topic6\", \"Topic6\", \"Topic6\", \"Topic6\", \"Topic6\", \"Topic6\", \"Topic6\", \"Topic6\", \"Topic6\", \"Topic6\", \"Topic6\", \"Topic6\", \"Topic6\", \"Topic6\", \"Topic6\", \"Topic6\", \"Topic6\", \"Topic6\", \"Topic6\", \"Topic6\", \"Topic6\", \"Topic6\", \"Topic6\", \"Topic6\", \"Topic6\", \"Topic6\", \"Topic6\", \"Topic6\", \"Topic6\", \"Topic6\", \"Topic6\", \"Topic6\", \"Topic6\", \"Topic6\", \"Topic6\", \"Topic6\", \"Topic6\", \"Topic6\", \"Topic6\", \"Topic6\", \"Topic6\", \"Topic6\", \"Topic6\", \"Topic6\", \"Topic7\", \"Topic7\", \"Topic7\", \"Topic7\", \"Topic7\", \"Topic7\", \"Topic7\", \"Topic7\", \"Topic7\", \"Topic7\", \"Topic7\", \"Topic7\", \"Topic7\", \"Topic7\", \"Topic7\", \"Topic7\", \"Topic7\", \"Topic7\", \"Topic7\", \"Topic7\", \"Topic7\", \"Topic7\", \"Topic7\", \"Topic7\", \"Topic7\", \"Topic7\", \"Topic7\", \"Topic7\", \"Topic7\", \"Topic7\", \"Topic7\", \"Topic7\", \"Topic7\", \"Topic7\", \"Topic7\", \"Topic7\", \"Topic7\", \"Topic7\", \"Topic7\", \"Topic7\", \"Topic7\", \"Topic7\", \"Topic7\", \"Topic7\", \"Topic7\", \"Topic7\", \"Topic7\", \"Topic7\", \"Topic7\", \"Topic7\", \"Topic7\", \"Topic7\", \"Topic7\", \"Topic7\", \"Topic7\", \"Topic7\", \"Topic7\", \"Topic7\", \"Topic8\", \"Topic8\", \"Topic8\", \"Topic8\", \"Topic8\", \"Topic8\", \"Topic8\", \"Topic8\", \"Topic8\", \"Topic8\", \"Topic8\", \"Topic8\", \"Topic8\", \"Topic8\", \"Topic8\", \"Topic8\", \"Topic8\", \"Topic8\", \"Topic8\", \"Topic8\", \"Topic8\", \"Topic8\", \"Topic8\", \"Topic8\", \"Topic8\", \"Topic8\", \"Topic8\", \"Topic8\", \"Topic8\", \"Topic8\", \"Topic8\", \"Topic8\", \"Topic8\", \"Topic8\", \"Topic8\", \"Topic8\", \"Topic8\", \"Topic8\", \"Topic8\", \"Topic8\", \"Topic8\", \"Topic8\", \"Topic8\", \"Topic8\", \"Topic8\", \"Topic8\", \"Topic8\", \"Topic8\", \"Topic8\", \"Topic9\", \"Topic9\", \"Topic9\", \"Topic9\", \"Topic9\", \"Topic9\", \"Topic9\", \"Topic9\", \"Topic9\", \"Topic9\", \"Topic9\", \"Topic9\", \"Topic9\", \"Topic9\", \"Topic9\", \"Topic9\", \"Topic9\", \"Topic9\", \"Topic9\", \"Topic9\", \"Topic9\", \"Topic9\", \"Topic9\", \"Topic9\", \"Topic9\", \"Topic9\", \"Topic9\", \"Topic9\", \"Topic9\", \"Topic9\", \"Topic9\", \"Topic9\", \"Topic9\", \"Topic9\", \"Topic9\", \"Topic9\", \"Topic9\", \"Topic9\", \"Topic9\", \"Topic9\", \"Topic9\", \"Topic9\", \"Topic9\", \"Topic9\", \"Topic9\", \"Topic9\", \"Topic9\", \"Topic9\", \"Topic9\", \"Topic10\", \"Topic10\", \"Topic10\", \"Topic10\", \"Topic10\", \"Topic10\", \"Topic10\", \"Topic10\", \"Topic10\", \"Topic10\", \"Topic10\", \"Topic10\", \"Topic10\", \"Topic10\", \"Topic10\", \"Topic10\", \"Topic10\", \"Topic10\", \"Topic10\", \"Topic10\", \"Topic10\", \"Topic10\", \"Topic10\", \"Topic10\", \"Topic10\", \"Topic10\", \"Topic10\", \"Topic10\", \"Topic10\", \"Topic10\", \"Topic10\", \"Topic10\", \"Topic10\", \"Topic10\", \"Topic10\", \"Topic10\", \"Topic10\", \"Topic10\", \"Topic10\", \"Topic10\", \"Topic10\", \"Topic10\", \"Topic10\", \"Topic10\", \"Topic10\", \"Topic10\", \"Topic10\", \"Topic10\", \"Topic10\", \"Topic10\", \"Topic10\", \"Topic10\"], \"logprob\": [30.0, 29.0, 28.0, 27.0, 26.0, 25.0, 24.0, 23.0, 22.0, 21.0, 20.0, 19.0, 18.0, 17.0, 16.0, 15.0, 14.0, 13.0, 12.0, 11.0, 10.0, 9.0, 8.0, 7.0, 6.0, 5.0, 4.0, 3.0, 2.0, 1.0, -4.4666, -4.5579, -4.9105, -5.1899, -5.1981, -5.3211, -5.3584, -5.4877, -5.5312, -5.5728, -5.6432, -5.7727, -5.8621, -5.8945, -5.9913, -6.0733, -6.0994, -6.1564, -6.218, -6.2363, -6.2643, -6.3343, -6.3365, -6.3812, -6.3952, -6.4026, -6.4079, -6.4155, -6.4954, -6.5786, -4.8675, -5.4074, -5.3551, -5.156, -3.6746, -4.8777, -4.4855, -5.4271, -3.7326, -3.5567, -3.6007, -4.1049, -4.1059, -4.6187, -4.4208, -4.4774, -5.2457, -4.2384, -4.0069, -4.1623, -3.7289, -4.1114, -5.0854, -4.6216, -4.6041, -4.7848, -3.9756, -4.8096, -4.7423, -5.0412, -4.8863, -4.9785, -5.0736, -3.9969, -4.2639, -4.5315, -4.8212, -4.8296, -5.0093, -5.1637, -5.2536, -5.338, -5.491, -5.5055, -5.627, -5.6675, -5.7067, -5.7101, -5.7249, -5.8077, -5.8496, -5.9162, -5.9237, -5.9629, -5.97, -5.5313, -5.9794, -6.0114, -6.0366, -6.0391, -6.039, -6.0841, -6.0922, -5.3093, -4.9208, -3.9925, -5.5858, -5.5553, -3.8738, -4.8551, -4.564, -5.4856, -4.7421, -5.0993, -4.2115, -4.6911, -4.7795, -3.776, -5.0632, -4.5273, -4.3265, -3.3817, -4.6171, -3.7263, -4.7597, -4.3302, -3.8368, -4.208, -4.8068, -4.8299, -4.5894, -4.6878, -4.8409, -4.8032, -4.8717, -3.5362, -4.0713, -4.2898, -4.4427, -4.7294, -4.8033, -4.8379, -4.9632, -5.1629, -5.2846, -5.3253, -5.4616, -5.6333, -5.7377, -5.8128, -5.8716, -5.893, -6.0084, -6.0381, -6.065, -6.1215, -6.1695, -6.2902, -6.305, -6.3681, -6.3959, -6.4477, -6.4744, -6.5862, -6.612, -6.017, -5.3829, -3.8844, -4.2325, -4.9429, -5.372, -4.4125, -5.6961, -4.7822, -3.4283, -2.6222, -4.7198, -4.9076, -3.7386, -4.9352, -4.5637, -3.9898, -4.7054, -3.4471, -3.8843, -4.9667, -4.1998, -4.8762, -4.5224, -5.0156, -4.5172, -4.3819, -4.6816, -4.8304, -4.8169, -4.6285, -4.7052, -4.8059, -4.9375, -5.0227, -5.1861, -5.2757, -5.3008, -5.3893, -5.5794, -5.5795, -5.7039, -5.8507, -5.8641, -5.8914, -5.9531, -6.0534, -6.0541, -6.1106, -6.1505, -6.1598, -6.1638, -6.2333, -6.2584, -6.2728, -6.2883, -6.3442, -6.4001, -6.4751, -6.4907, -4.6034, -5.535, -3.5245, -5.0761, -4.5472, -4.4853, -4.4768, -4.474, -4.1886, -4.1763, -5.0904, -3.2604, -5.3281, -5.3444, -5.015, -4.0912, -3.7538, -4.1768, -5.2188, -4.9867, -4.8662, -4.5995, -4.5349, -5.1198, -4.4573, -4.6622, -4.6332, -5.0499, -5.0729, -5.1022, -5.0783, -3.8054, -4.4361, -4.627, -4.6618, -5.2417, -5.294, -5.3213, -5.3257, -5.5311, -5.6069, -5.6266, -5.7095, -5.7566, -5.9043, -5.9826, -5.9857, -5.9917, -6.0298, -6.0565, -6.0937, -6.1122, -6.118, -6.1269, -6.2335, -6.237, -6.2432, -6.2733, -6.286, -6.2925, -6.3138, -3.6255, -4.9754, -3.3232, -4.6057, -4.6321, -3.131, -4.935, -4.3213, -4.2264, -5.7779, -5.2446, -4.6529, -4.8427, -4.4715, -3.044, -3.9497, -3.7696, -3.1493, -4.4929, -4.7129, -4.8578, -4.7413, -4.4913, -4.352, -4.4283, -4.6641, -4.305, -4.9113, -4.9027, -4.9011, -4.9059, -4.1227, -4.2369, -4.7412, -4.806, -4.8445, -4.9182, -5.2652, -5.2768, -5.3445, -5.367, -5.4617, -5.5623, -5.5663, -5.5828, -5.6498, -5.772, -5.7963, -5.8129, -5.8287, -5.869, -5.8725, -5.9163, -5.9233, -5.9545, -5.9651, -6.0206, -6.0217, -6.0384, -6.1055, -6.1132, -3.6041, -4.1132, -4.1932, -4.7442, -4.7251, -3.2635, -4.9788, -4.5357, -4.2534, -3.5237, -3.0647, -3.7303, -4.0051, -4.0758, -4.9547, -3.7753, -4.2193, -4.3831, -4.6488, -4.9085, -4.1333, -4.7444, -4.5268, -4.78, -4.5805, -3.2356, -4.5921, -4.628, -4.6955, -4.7535, -4.9641, -4.9714, -5.1917, -5.6074, -5.6335, -5.6453, -5.6897, -5.7041, -5.7193, -5.7352, -5.8901, -5.8988, -5.9533, -6.0274, -6.0344, -6.0647, -6.2235, -6.2254, -6.3295, -6.3348, -6.3441, -6.3582, -6.3594, -6.427, -6.4342, -4.0337, -4.7374, -5.51, -3.8293, -4.5642, -5.3338, -4.3874, -4.0112, -5.6594, -3.8905, -4.3048, -3.5726, -4.8415, -4.8899, -4.0354, -4.6341, -3.6456, -5.0551, -4.6509, -4.7601, -4.7737, -3.5377, -3.9039, -4.5103, -4.8637, -4.3706, -4.6896, -4.9487, -4.2064, -4.4419, -4.4945, -4.6669, -4.7615, -4.905, -4.9733, -5.0108, -5.007, -5.0276, -5.1498, -5.1998, -5.2611, -5.2713, -5.453, -5.4613, -5.4846, -5.4858, -5.5021, -5.5116, -5.5185, -5.525, -5.5295, -5.6059, -5.6671, -5.6682, -5.6759, -5.7089, -5.7344, -5.7629, -3.5017, -3.5881, -4.4823, -3.8816, -4.5331, -4.0247, -4.8291, -3.5473, -4.6436, -4.3747, -5.1561, -5.1684, -5.2085, -5.3426, -5.1299, -5.1913, -5.2075, -5.1476, -5.2428, -2.9791, -3.4902, -3.7321, -3.7638, -4.1599, -4.2249, -4.5914, -4.8865, -4.9226, -4.9703, -5.1508, -5.1934, -5.2012, -5.2428, -5.2439, -5.2976, -5.3206, -5.3482, -5.4577, -5.4681, -5.6443, -5.6924, -5.7154, -5.7591, -5.7898, -5.8474, -5.8854, -5.887, -5.8869, -5.9233, -2.9767, -2.8811, -3.4628, -4.2847, -4.8709, -4.3222, -5.3781, -5.1762, -4.8756, -4.9965, -4.078, -4.6348, -4.3121, -4.667, -4.2369, -5.0873, -4.9251, -5.1258, -5.198, -3.8469, -4.4764, -4.5036, -4.7049, -4.7827, -4.8691, -4.8725, -4.9597, -5.1153, -5.2158, -5.2775, -5.3637, -5.3688, -5.4183, -5.4699, -5.482, -5.4848, -5.4947, -5.5005, -5.5021, -5.5224, -5.5658, -5.5772, -5.6024, -5.6525, -5.6547, -5.6661, -5.6981, -5.7147, -5.7174, -5.47, -4.7481, -4.8418, -4.9246, -4.0298, -4.3739, -4.6817, -4.0079, -4.7244, -4.2522, -3.7591, -3.7667, -4.0041, -4.6288, -3.2938, -4.8929, -5.1124, -4.8548, -4.916, -5.0834, -4.8419, -5.1646], \"loglift\": [30.0, 29.0, 28.0, 27.0, 26.0, 25.0, 24.0, 23.0, 22.0, 21.0, 20.0, 19.0, 18.0, 17.0, 16.0, 15.0, 14.0, 13.0, 12.0, 11.0, 10.0, 9.0, 8.0, 7.0, 6.0, 5.0, 4.0, 3.0, 2.0, 1.0, 1.7871, 1.7871, 1.787, 1.7869, 1.7869, 1.7869, 1.7869, 1.7868, 1.7868, 1.7868, 1.7868, 1.7867, 1.7867, 1.7866, 1.7866, 1.7865, 1.7865, 1.7865, 1.7864, 1.7864, 1.7864, 1.7863, 1.7863, 1.7863, 1.7863, 1.7863, 1.7863, 1.7863, 1.7862, 1.7861, 1.7411, 1.6758, 1.6679, 1.6338, 1.3228, 1.5261, 1.4143, 1.5819, 1.184, 1.1131, 0.9926, 1.147, 1.0579, 1.2299, 1.1355, 1.1562, 1.4646, 0.9034, 0.68, 0.6633, 0.3024, 0.4124, 1.3161, 0.8406, 0.6494, 0.8293, -0.3438, 0.7851, 0.6141, 0.9199, -0.0036, 0.3824, 0.0079, 1.9571, 1.957, 1.957, 1.9569, 1.9569, 1.9569, 1.9568, 1.9568, 1.9568, 1.9567, 1.9567, 1.9566, 1.9566, 1.9566, 1.9566, 1.9566, 1.9565, 1.9565, 1.9565, 1.9565, 1.9564, 1.9564, 1.9564, 1.9564, 1.9564, 1.9564, 1.9564, 1.9564, 1.9563, 1.9563, 1.9306, 1.8328, 1.6885, 1.8978, 1.891, 1.631, 1.7482, 1.6045, 1.8346, 1.6099, 1.7127, 1.4095, 1.5194, 1.5197, 0.9586, 1.6022, 1.169, 0.9667, 0.2502, 1.1498, 0.3049, 1.1843, 0.6795, -0.0449, 0.3158, 1.0969, 1.1219, 0.5744, 0.1949, 0.7538, -0.2099, 0.3817, 2.0434, 2.0433, 2.0433, 2.0433, 2.0432, 2.0432, 2.0432, 2.0432, 2.0431, 2.0431, 2.043, 2.043, 2.0429, 2.0428, 2.0428, 2.0427, 2.0427, 2.0426, 2.0426, 2.0426, 2.0425, 2.0425, 2.0424, 2.0424, 2.0423, 2.0423, 2.0422, 2.0422, 2.042, 2.042, 2.0406, 1.969, 1.8165, 1.7488, 1.8198, 1.8887, 1.5855, 1.8954, 1.6621, 1.2586, 1.0096, 1.567, 1.608, 1.1441, 1.6106, 1.4095, 1.1195, 1.4703, 0.5841, 0.8503, 1.5545, 0.7167, 1.3743, 0.8385, 1.5236, 0.3873, -0.59, 0.3999, 0.8031, 0.3249, 2.0549, 2.0549, 2.0549, 2.0549, 2.0548, 2.0548, 2.0547, 2.0547, 2.0547, 2.0546, 2.0546, 2.0545, 2.0544, 2.0544, 2.0544, 2.0544, 2.0543, 2.0543, 2.0542, 2.0542, 2.0542, 2.0542, 2.0541, 2.0541, 2.0541, 2.054, 2.054, 2.0539, 2.0538, 2.0538, 2.0464, 1.9796, 1.5768, 1.8206, 1.7157, 1.6549, 1.5882, 1.5782, 1.4255, 1.2858, 1.6225, 0.5315, 1.5504, 1.5589, 1.3074, 0.5785, 0.2775, 0.5101, 1.4537, 1.2242, 1.0189, 0.5097, 0.3817, 1.2672, 0.0665, 0.4193, 0.2496, 0.6415, 0.4054, 0.7951, -1.4464, 2.2925, 2.2924, 2.2924, 2.2924, 2.2922, 2.2921, 2.2921, 2.2921, 2.292, 2.292, 2.2919, 2.2919, 2.2918, 2.2917, 2.2916, 2.2916, 2.2916, 2.2916, 2.2916, 2.2915, 2.2915, 2.2915, 2.2915, 2.2913, 2.2913, 2.2913, 2.2913, 2.2913, 2.2913, 2.2912, 2.2782, 2.1666, 1.8844, 2.06, 2.0389, 1.7734, 2.0611, 1.9361, 1.7818, 2.1534, 1.9188, 1.6253, 1.7016, 1.4941, 0.7479, 1.1318, 0.965, 0.4826, 1.3479, 1.4629, 1.4804, 1.3109, 1.0135, 0.7898, 0.681, 1.1029, 0.3648, 1.2914, 1.1109, 0.9949, 0.0914, 2.3492, 2.3492, 2.349, 2.349, 2.349, 2.349, 2.3488, 2.3488, 2.3488, 2.3488, 2.3487, 2.3486, 2.3486, 2.3486, 2.3486, 2.3485, 2.3485, 2.3484, 2.3484, 2.3484, 2.3484, 2.3483, 2.3483, 2.3483, 2.3483, 2.3482, 2.3482, 2.3482, 2.3481, 2.3481, 2.0441, 2.0984, 2.0593, 2.118, 2.0937, 1.7462, 2.0505, 1.8152, 1.6318, 1.0001, 0.7271, 1.0952, 1.2468, 1.1776, 1.7391, 0.818, 1.1371, 1.1732, 1.2471, 1.5102, -0.1021, 0.8503, 0.143, 0.3617, -0.9486, 2.4734, 2.4731, 2.4731, 2.4731, 2.4731, 2.473, 2.473, 2.4729, 2.4726, 2.4726, 2.4726, 2.4725, 2.4725, 2.4725, 2.4725, 2.4723, 2.4723, 2.4722, 2.4722, 2.4721, 2.4721, 2.4719, 2.4719, 2.4717, 2.4717, 2.4717, 2.4717, 2.4717, 2.4715, 2.4715, 2.4027, 2.3443, 2.3464, 1.867, 1.9464, 2.1736, 1.8038, 1.6098, 2.2362, 1.4659, 1.6392, 1.253, 1.847, 1.8515, 1.2579, 1.6519, 0.9477, 1.915, 1.5436, 1.5908, 1.5747, 0.2542, 0.6198, 1.1379, 1.4355, -0.3393, 0.4742, 0.7322, 2.9389, 2.9388, 2.9388, 2.9387, 2.9386, 2.9385, 2.9385, 2.9385, 2.9384, 2.9384, 2.9383, 2.9383, 2.9382, 2.9382, 2.938, 2.938, 2.938, 2.938, 2.938, 2.938, 2.938, 2.938, 2.938, 2.9379, 2.9378, 2.9378, 2.9378, 2.9377, 2.9377, 2.9376, 2.8247, 2.6598, 2.5825, 2.368, 2.544, 2.2976, 2.5386, 1.5539, 1.5592, 1.1036, 2.0807, 1.9833, 2.0103, 2.3934, 1.3914, 1.5346, 0.8061, -0.0383, 1.1092, 2.9934, 2.9933, 2.9933, 2.9933, 2.9931, 2.9931, 2.993, 2.9928, 2.9928, 2.9927, 2.9926, 2.9925, 2.9925, 2.9925, 2.9925, 2.9924, 2.9924, 2.9924, 2.9923, 2.9923, 2.992, 2.9919, 2.9919, 2.9918, 2.9918, 2.9917, 2.9916, 2.9916, 2.9916, 2.9915, 2.7147, 2.6588, 2.6716, 2.669, 2.7737, 2.532, 2.8017, 2.6449, 2.269, 2.3616, 1.1754, 1.6524, 0.8955, 1.5242, -0.6051, 2.0543, 1.0314, 1.099, 1.2074, 2.9972, 2.997, 2.997, 2.9969, 2.9968, 2.9968, 2.9968, 2.9967, 2.9966, 2.9965, 2.9964, 2.9964, 2.9963, 2.9963, 2.9962, 2.9962, 2.9962, 2.9962, 2.9962, 2.9962, 2.9962, 2.9961, 2.9961, 2.9961, 2.996, 2.996, 2.996, 2.9959, 2.9959, 2.9959, 2.9932, 2.8335, 2.6703, 2.6399, 2.195, 2.3525, 2.4896, 2.0959, 2.4944, 1.888, 1.4485, 1.243, 1.3568, 1.9984, 0.3381, 2.1372, 2.4661, 2.0461, 2.0244, 2.0625, 0.698, 2.2228]}, \"token.table\": {\"Topic\": [8, 7, 1, 2, 3, 5, 7, 10, 4, 5, 7, 3, 3, 3, 4, 8, 9, 3, 6, 2, 8, 2, 7, 2, 2, 2, 5, 1, 2, 6, 7, 10, 5, 3, 1, 9, 1, 6, 7, 10, 2, 7, 5, 3, 4, 8, 7, 1, 1, 4, 5, 9, 10, 8, 1, 3, 4, 6, 1, 3, 8, 5, 9, 1, 3, 4, 6, 4, 6, 7, 1, 3, 4, 3, 4, 1, 3, 4, 6, 9, 1, 2, 7, 9, 10, 7, 1, 1, 6, 2, 5, 9, 3, 8, 6, 7, 1, 2, 5, 10, 8, 1, 7, 6, 10, 8, 8, 2, 10, 4, 4, 9, 8, 6, 7, 5, 9, 4, 8, 1, 4, 3, 3, 2, 3, 5, 6, 7, 9, 6, 5, 8, 10, 9, 1, 4, 5, 10, 1, 4, 5, 6, 10, 1, 6, 7, 1, 4, 6, 4, 10, 1, 4, 6, 8, 7, 2, 7, 2, 8, 3, 2, 5, 7, 10, 1, 1, 1, 4, 4, 10, 2, 3, 6, 10, 5, 8, 1, 2, 3, 5, 8, 1, 2, 3, 10, 9, 2, 7, 2, 4, 7, 9, 2, 5, 9, 1, 3, 6, 9, 8, 1, 3, 4, 6, 2, 1, 2, 4, 5, 9, 9, 1, 3, 4, 3, 5, 5, 3, 10, 1, 2, 6, 7, 1, 2, 3, 4, 5, 6, 7, 9, 5, 3, 7, 2, 3, 5, 7, 9, 1, 6, 1, 5, 7, 9, 2, 9, 1, 7, 9, 10, 5, 5, 8, 1, 1, 3, 8, 9, 4, 4, 2, 8, 3, 5, 6, 7, 4, 6, 8, 4, 10, 1, 3, 4, 5, 8, 9, 10, 3, 1, 2, 4, 5, 6, 7, 1, 2, 4, 7, 1, 3, 3, 6, 2, 8, 1, 2, 3, 4, 5, 6, 7, 8, 9, 10, 2, 5, 10, 1, 7, 1, 10, 5, 10, 1, 1, 4, 2, 9, 1, 2, 3, 5, 7, 10, 1, 2, 3, 4, 5, 6, 7, 9, 10, 2, 3, 4, 7, 9, 3, 5, 7, 9, 3, 6, 5, 9, 10, 5, 9, 3, 2, 5, 9, 10, 2, 9, 10, 2, 7, 4, 9, 7, 7, 3, 5, 7, 1, 10, 8, 4, 1, 4, 6, 4, 5, 4, 6, 9, 2, 4, 5, 2, 3, 6, 7, 9, 1, 10, 2, 2, 2, 6, 5, 2, 6, 7, 9, 3, 9, 10, 7, 9, 3, 4, 7, 10, 5, 10, 8, 10, 2, 6, 1, 2, 3, 7, 7, 9, 9, 3, 10, 1, 1, 5, 7, 1, 6, 8, 2, 7, 1, 10, 5, 1, 3, 4, 2, 3, 5, 6, 9, 10, 6, 7, 3, 7, 8, 5, 4, 1, 2, 4, 5, 9, 7, 7, 2, 10, 7, 8, 1, 2, 4, 8, 9, 2, 10, 5, 1, 10, 10, 6, 5, 2, 7, 1, 1, 9, 6, 1, 2, 3, 5, 10, 7, 1, 1, 6, 4, 4, 10, 1, 2, 4, 5, 6, 4, 5, 10, 8, 10, 8, 3, 3, 4, 8, 5, 6, 5, 9, 1, 2, 6, 7, 1, 2, 4, 6, 7, 9, 7, 1, 4, 8, 4, 4, 1, 7, 8, 1, 2, 3, 5, 7, 3, 9, 10, 1, 2, 6, 2, 7, 7, 6, 6, 1, 3, 1, 2, 7, 10, 2, 10, 1, 2, 6, 7, 7, 2, 2, 2, 2, 1, 5, 6, 7, 1, 2, 10, 10, 3, 9, 2, 9, 1, 1, 8, 2, 7, 8, 2, 4, 5, 7, 8, 6, 6, 2, 3, 4, 5, 10, 1, 3, 4, 6, 1, 10, 3, 3, 9, 7, 9, 8, 2, 6, 8, 4, 5, 7, 9, 9, 6, 5, 6, 4, 1, 4, 5, 6, 1, 3, 4, 5, 6, 9, 10, 10, 1, 2, 9, 6, 3, 4, 2, 4, 2, 3, 4, 5, 8, 9, 3, 2, 7, 3, 1, 2, 3, 4, 5, 6, 8, 9, 8, 7, 1, 10, 8, 10, 4, 1, 4, 7, 5, 7, 6, 10, 7, 3, 1, 8, 9, 5, 7, 5, 4, 3, 6, 1, 2, 3, 6, 10, 1, 5, 6, 7, 8, 1, 6, 1, 4, 6, 6, 6, 1, 2, 10, 1, 3, 5, 1, 2, 3, 4, 5, 9, 1, 2, 6, 7, 9, 3, 4, 3, 5, 6, 4, 7, 8, 9, 6, 9, 1, 2, 3, 4, 5, 6, 9, 10, 1, 4, 1, 4, 5, 9, 8, 10, 10, 10, 8, 9, 2, 7, 1, 6, 10, 2, 3, 4, 5, 7, 2, 4, 5, 8, 9, 2, 6, 4, 3, 3, 1, 2, 6, 10, 2, 1, 4, 9, 10, 6, 5, 5, 10, 2, 1, 3, 4, 5, 1, 3, 4, 4, 1, 2, 4, 5, 6, 7, 8, 7, 4, 6, 10, 4, 5, 1, 1, 2, 3, 5, 10, 4, 1, 5, 5, 1, 2, 3, 5, 5, 4, 10, 2, 7, 8, 3, 10, 6, 8, 5, 1, 2, 4, 5, 6, 7, 8, 1, 9, 10, 7, 1, 9, 3, 8, 4, 9, 4, 1, 1, 9, 4, 4, 7, 4, 5, 6, 7, 1, 2, 7, 1, 1, 2, 3, 4, 5, 6, 7, 9, 10, 8, 4, 8, 9, 10, 3, 3, 9, 10, 9, 5, 3, 2, 3, 3, 4, 5, 3, 2, 7, 4, 8], \"Freq\": [0.9991265143065191, 0.9995791525231544, 0.020702444261509655, 0.368417660398604, 0.3032726483922905, 0.26510354860551993, 0.04246147260016175, 3.30182524107012e-05, 0.6486613425337088, 0.12438445324256986, 0.22656592346871168, 0.9996042530101557, 0.9998953654648558, 0.43981006195391403, 0.09554077422830214, 0.4236850367677027, 0.04071568859518361, 0.9998860878932495, 0.999755132278103, 0.9998520877112302, 0.9987885633730597, 0.4547082824025431, 0.5452353112699186, 0.9995442862229922, 0.9996824159763342, 0.999463698506139, 0.9993361132845667, 0.4517504068025369, 0.11452867592182606, 0.21624275406216117, 0.21747547823353502, 0.9987754682718382, 0.9997869342798098, 0.9991951829402153, 0.999478857824189, 0.9989971224826589, 0.07862182954776449, 0.7416659254005784, 0.17951984413406227, 0.9988098186104363, 0.11910734390240584, 0.8809448832026997, 0.9984914385410348, 0.6133815706048733, 0.17384400555060997, 0.2126731088311884, 0.9986307344240659, 0.9993073373397783, 0.20651921792690198, 0.0036812694817629586, 0.24296378579635527, 0.15424519128586797, 0.3927914537041077, 0.999159852547762, 0.5271582648776089, 0.13934967371633367, 0.0014400204756059918, 0.33203549043299696, 0.17770723186815135, 0.2573224752241279, 0.5648175755065504, 0.688161164060228, 0.31167669488193234, 0.07991715200648467, 0.37949808529661616, 0.43571467142776, 0.10477384304647629, 0.3547575686046415, 0.4878959972927364, 0.15713673479958534, 0.5470181022392657, 0.2653301185215293, 0.18758074956231718, 0.008517608895323565, 0.9914048458951612, 0.38802786182595933, 0.0807907226842142, 0.46335051529296784, 0.06780405829335065, 0.9997700641531589, 0.18327271737359302, 0.0007387050277049296, 7.387050277049296e-05, 0.7155835603377653, 0.10031614276232943, 0.9995504130148074, 0.9993457607867533, 0.8874411122656631, 0.11231371376803147, 0.9995950892572572, 0.9995868778857572, 0.9997428755656728, 0.9996702556345144, 0.999492876453706, 0.998590609291701, 0.9990779652791447, 0.36295441279742663, 0.42300397157650305, 0.12190591844177111, 0.09204056265961097, 0.9985979371990847, 0.9995603085500447, 0.9973927437705854, 0.9991510020479591, 0.9988081027786179, 0.9994522522404211, 0.9990817132106328, 0.9994967971452331, 0.9989499444159937, 0.9998007170973195, 0.24326022315147736, 0.7566854220503375, 0.9996718691196025, 0.999626501411356, 0.9993762507038148, 0.7932133108175091, 0.20630517992097422, 0.42037012018471215, 0.579088064456665, 0.28768522111255357, 0.7122111902569513, 0.999573249689528, 0.9991480142047359, 0.11917810376652826, 0.5304906798632463, 0.17614660461094905, 0.08203464121596592, 0.036345903538740454, 0.05571519382584352, 0.9994064020627047, 0.24368407733880795, 0.7562454166274514, 0.998812637997724, 0.9986429859127745, 0.004315607732623787, 0.6207076950293755, 0.3745947511917447, 0.000369909234224896, 0.5096164990466039, 0.22841142697734898, 0.14544556385226123, 0.1101053864226267, 0.006405793982429378, 0.8947217656618676, 0.10509869272071397, 0.9989062483029012, 0.3836598274398331, 0.5327636259927669, 0.08346311882712255, 0.9987038027406585, 0.9992260482905817, 0.5913829255598907, 0.16278147603345866, 0.00024187440718195937, 0.24550252328968875, 0.9983954488576052, 0.5783480651243955, 0.4216436995081997, 0.9421526483863627, 0.05727214894353026, 0.998802463426216, 0.46170199626806885, 0.00011066682556760999, 0.4342566235273016, 0.10391614920798578, 0.9995258729491611, 0.9995335843297495, 0.5450671415026342, 0.4547683169223686, 0.6701152467058104, 0.32973924837904955, 0.23291654508871576, 0.07647024857569312, 0.322314428810443, 0.3681089329718179, 0.9983221555946032, 0.9987989423437649, 0.1345956232961135, 0.033684740654511894, 0.21257221442826016, 0.3673786821170808, 0.2515605099943335, 0.2582629702289234, 0.1470914974186487, 0.5945867760592852, 0.9979135216506291, 0.9972279008065661, 0.9994214395941099, 0.0005181033901472835, 0.702837775477916, 0.1887993472558927, 0.10818216449512268, 0.00013851749615252583, 0.7216713065952358, 0.27824073601779153, 0.9981869983172265, 0.24742771240493044, 0.6209858717762053, 0.012472726523247912, 0.11895862921547695, 0.9979416237975715, 0.5320221453415478, 0.2892941400256114, 0.17847647449701207, 0.00016225134045182917, 0.9990191922350661, 0.018053855539263045, 0.29706798660060096, 0.22567319424078805, 0.44379659434697516, 0.015263714228649663, 0.9985902608923111, 0.31681240362275925, 0.6828986257813163, 0.9995830202738747, 0.9994920599104438, 0.9989154574424793, 0.9991485423592047, 0.9990900881590016, 0.9991311211071568, 0.7702493581988483, 0.22870885379965802, 0.0008762791333320231, 0.00017525582666640463, 0.1687645821992866, 0.10182861588553689, 0.1932875286854824, 0.1947822606617839, 0.3131930594094151, 0.0017749942218579825, 0.026017678462497272, 0.00032697261981594415, 0.9995915478997276, 0.42762652795323824, 0.5721241561713721, 0.13688339859829143, 0.19088542548955564, 0.5949614614889717, 0.07724637759663444, 0.9993333305548852, 0.9550347500524425, 0.044955464585801914, 0.19785860293382065, 0.3622214581268764, 0.43980695754502025, 0.9989687386478117, 0.29357926922258004, 0.7057472087715225, 0.2864629541305974, 0.11487823838280735, 0.15033810278158205, 0.4482302694043465, 0.9993040067001617, 0.9991472289349176, 0.9983964610147567, 0.9990937219523829, 0.9996924857609553, 0.10384156975539169, 0.6699159677139871, 0.22606217840554296, 0.9993442792646892, 0.9996220335261369, 0.9991728681519717, 0.9995626314894009, 0.15457326232572885, 0.0018736153009179253, 0.5431142353535836, 0.30024685197209755, 0.20621262649852784, 0.7935305775071038, 0.9991509245567035, 0.99962132332761, 0.9991595508987805, 0.11555826121676399, 0.34157313556782704, 0.07059257230387533, 0.30669209984120627, 0.11852433568331337, 0.0021355736159155564, 0.044847045934226684, 0.999402765486294, 0.2528961475878515, 0.1937167910676109, 0.13689070313019053, 0.00040112532661708495, 0.2594211195674894, 0.15667955257663338, 0.1964917518435662, 0.14409395135194855, 0.25220586882199514, 0.4070778487560802, 0.36731970009003134, 0.6325607299483657, 0.9985264297926207, 0.9989108455523737, 0.9996652644842619, 0.9992438869057032, 0.04504513659025097, 0.13505823363724592, 0.07182525491717916, 0.21790681295700792, 0.21335342108009506, 0.19745513757765354, 0.10868972135568838, 0.009492664421360713, 0.0002958418451101577, 0.0008618001574948073, 0.8829644232066434, 0.000248652329824456, 0.11661794268766987, 0.2583933895402417, 0.7408333990499364, 0.6219197372029963, 0.3779473680062546, 0.5766920184979161, 0.4229293370450891, 0.9996191142332257, 0.9985797243438708, 0.999566800810132, 0.9993695056381883, 0.9994974551424569, 0.07250532629309725, 0.37141661574027685, 0.17306605750533882, 0.08306939851573801, 0.2965444754519431, 0.0032904487250848273, 0.22654275096275722, 0.19162088276630534, 0.23239302181644453, 0.16903687628642866, 0.010082729376327, 0.08616893355165685, 0.06003881317443339, 0.009951997066747396, 0.014184455589387093, 0.0008678419471927931, 0.7969392601071419, 0.0002603525841578379, 0.15247983012177374, 0.04938020679526993, 0.24034862459091735, 0.5999866254515536, 0.15091109025615282, 0.008731368787298912, 0.9984009034891607, 0.9992296471548969, 0.8703084123328582, 0.07750427419661816, 0.052476852320626884, 0.8815030152358578, 0.11807153531861324, 0.9996391080872606, 0.9994261776497352, 0.6647926660056112, 0.12272117124732945, 0.21248354779870082, 0.2503376027525168, 0.3910837805811646, 0.3584629216573374, 0.4627961482290388, 0.5369810934334813, 0.2766962857244825, 0.7228728430562771, 0.9990365662409734, 0.998766645677957, 0.5638074270434593, 0.436145017801993, 0.9998923398389762, 0.15081611337934406, 0.8485540567871773, 0.9989719129481247, 0.9998304900421213, 0.9994226119706453, 0.2253259761783182, 0.7744419299038074, 0.9987291628967164, 0.9992489153967197, 0.1158485140107867, 0.7482699207952894, 0.13588473294893316, 0.0036305591998056622, 0.44252482690964573, 0.5536602779703634, 0.3624746497344837, 0.11778231959895329, 0.1470962501101682, 0.2050219810604731, 0.16763355471982175, 0.4119206246731681, 0.5878095966410498, 0.9998626850720875, 0.9994642169390623, 0.999481155090353, 0.99949248670103, 0.9993765415223785, 0.032446831446923965, 0.22556923870525308, 0.511923152915879, 0.2301032937546049, 0.8567785840771532, 0.14286524823647953, 0.9987952670197264, 0.9989607053164833, 0.9992145193089432, 0.6486423295009821, 0.0018180569808498408, 0.18503779938427267, 0.16423114727010227, 0.99880071255054, 0.9998404722694145, 0.39516091475096554, 0.6046199567382008, 0.9995560493836795, 0.9996611608370831, 0.27531452436922355, 0.06555823737027934, 0.5121361387228702, 0.14690458236413514, 0.9994682320588569, 0.9993439617882823, 0.9977146245256174, 0.9976082189142739, 0.0018321546720188684, 0.9989551302837076, 0.9990756848150977, 0.1208226287307334, 0.8788983221384208, 0.999866806194467, 0.9995188727152763, 0.9991268679214608, 0.6456392821880501, 0.3542333861198006, 0.538931829360852, 0.4606695550101892, 0.9996666909650471, 0.6242459237156269, 0.023431079489606165, 0.35216562755273745, 0.4460132471462896, 0.011310250707097761, 0.3042642854155316, 0.13674278518827213, 0.01983929222392558, 0.08167484322092727, 0.7368955019690976, 0.2630299551772167, 0.9987511664947977, 0.9317571327284533, 0.06808019469605488, 0.9998225900716944, 0.9996080884622952, 0.35864799744871717, 0.32643726740694484, 0.2836656422695095, 0.017953521662627182, 0.013306727820535443, 0.9986315398085293, 0.999711941895489, 0.3979577886802427, 0.60184508079346, 0.99904843700184, 0.9989340886032905, 0.2208772139535666, 0.1552338582760398, 0.6037498335490985, 0.020284642097776525, 0.99735816617818, 0.9995857204903679, 0.9992490126231403, 0.9993891302105491, 0.8143690605786347, 0.1852151943058227, 0.999054976778337, 0.9985217571284645, 0.9991693937575811, 0.4095225006744998, 0.5902974331151004, 0.9986438224583783, 0.2751096432381711, 0.7247900771247973, 0.9984876920090873, 0.1438745334910751, 0.6455575202526251, 0.2085891830934864, 0.0001444523428625252, 0.0017334281143503026, 0.9992279867673982, 0.9989461049403067, 0.9997979134562541, 0.9989677363390354, 0.9997051794627665, 0.9993822491572258, 0.9991747407230036, 0.36708841268248815, 0.3002102728719243, 0.055172514406147774, 0.05415802687109838, 0.22334333271625872, 0.3374350904569148, 0.2565493415709364, 0.40598673638275207, 0.999538289914004, 0.9992912970970387, 0.9991327260070951, 0.9995345587935677, 0.9998639475991826, 0.47348724386331065, 0.5264738750428282, 0.7000752508442868, 0.29977270689266605, 0.9998196436447738, 0.9977305560832566, 0.309420353259223, 0.027916701188332123, 0.29749119019636744, 0.3651307745733836, 0.4822691332614204, 0.25089761302389807, 0.061012700316909106, 0.07039536827919356, 0.13541472140161873, 0.997191933935622, 0.998804200544728, 0.12991595077817814, 0.6198043709659323, 0.2502561384076897, 0.9987800745333255, 0.9996767942600147, 0.33246901812220814, 0.282857828335598, 0.38430160446642764, 0.5727856454978112, 0.29423920145435506, 0.012674919447264527, 0.006035675927268822, 0.11427546422295637, 0.5150816043683251, 0.48456642009811024, 0.9997576604211182, 0.7243470009782, 0.23978219263150802, 0.03571730774054241, 0.8115250632381101, 0.1882789495516839, 0.9996995413918136, 0.9989949518526515, 0.9986734144813186, 0.07146294496102876, 0.9281136902533609, 0.1935858057603569, 0.2790055425521144, 0.0024198225720044615, 0.5246175336105672, 0.0027482541663090615, 0.9962421352870348, 0.3249802968562826, 0.09456141941461878, 0.2853115102031901, 0.29507502195919283, 0.9984506706039876, 0.9998850414436868, 0.9995351047799732, 0.9998963290364239, 0.9993908024422338, 0.6887165394522266, 0.24160663228746823, 0.0011646244325863937, 0.0683952166773464, 0.999763450138164, 0.27873682196389155, 0.7209992461465994, 0.9992547612526996, 0.8621381266965462, 0.13736734152031635, 0.9995330155636027, 0.9994773067029279, 0.9996636106319235, 0.29970811045161466, 0.6998846248598295, 0.706617260974793, 0.13280277302352445, 0.16042841252465861, 0.9995005041369212, 0.0011691220884701373, 0.9855699205803259, 0.00988439583888389, 0.0032947986129612966, 0.9995326805161794, 0.9991008567847529, 0.20361525079185314, 0.2095769585853083, 0.5480185240906859, 0.038292507750269676, 0.00022929645359442922, 0.5211847938718025, 0.1700984954062871, 0.0002252960204056783, 0.30850535060884215, 0.9993056429473455, 0.9990770095906385, 0.9992548874866855, 0.9997438949124677, 0.9998213661989624, 0.9989917985803463, 0.9986957060568362, 0.9989305301557159, 0.9993930138539863, 0.9997349910694396, 0.9987668986043166, 0.6088184768351304, 0.39105323417209037, 0.3693023330815956, 0.6302613160260738, 0.9992888439160631, 0.9994358048492349, 0.9986253344455687, 0.9993195478759106, 0.9998343178397644, 0.29046061889357205, 0.10420301069965475, 0.27316376286650385, 0.33212072944657167, 0.41320863664061025, 0.1792935541864768, 0.0010418275146419516, 0.2225045906271025, 0.1370251235924319, 0.037108903854865705, 0.009822945138052687, 0.9989908985144471, 0.9996988950128323, 0.9996462413443422, 0.9992065638874397, 0.9984830480237004, 0.9985451714680673, 0.9993522703204407, 0.9992081849183128, 0.9986179560973661, 0.13226026058312942, 0.396924856107322, 0.21323004974186444, 0.1995429857381637, 0.05090627313657124, 0.007107668324728815, 0.9985847489313454, 0.973822483857629, 0.025882325152362235, 0.999812955178492, 0.16682984885508245, 0.1716543980760465, 0.40683202756145304, 0.16437928417141817, 0.0838169701959549, 0.005666930830973652, 0.0006509312440983249, 0.00015316029272901762, 0.9987470891432267, 0.9975958265833417, 0.9996993691642914, 0.9978764004779236, 0.9991575590248218, 0.9994767115760641, 0.9992957812109682, 0.32782315902140574, 0.13746671202745514, 0.5344892159169189, 0.9993297966010022, 0.9991837806208785, 0.999547039854459, 0.998500867633219, 0.9981245529211303, 0.9996314502438368, 0.9996809427692964, 0.9986951427300711, 0.999849467832626, 0.9994086803837104, 0.9988134891940946, 0.9988226908009673, 0.9990771240687333, 0.7994820369912141, 0.2002469132200216, 0.24539136876504222, 0.1811560243110669, 0.2996825877795079, 0.07986182728749046, 0.19387956369329662, 0.22389272623870243, 0.7758409501257285, 0.5861265030800056, 0.4137461333426358, 0.9995093529605216, 0.999644566212843, 0.9996223933791372, 0.20476974127740527, 0.017064145106450438, 0.7780093277347743, 0.9993991121127983, 0.9997025119001512, 0.8578245405724844, 0.1420683263767475, 0.99931996637934, 0.1618428993118012, 0.32492242058587023, 0.5130435365958627, 0.42012485693654755, 0.10525636153153053, 0.21951861495880698, 0.09895223720450838, 0.13092315343440641, 0.02532907095678542, 0.32052504757165345, 0.20691561568748137, 0.3098186899771001, 0.0003883134878853538, 0.16231503793607788, 0.9993177106494975, 0.9990161092127657, 0.45450388289654436, 0.11331466669475489, 0.43208999278109833, 0.9994480659207846, 0.9997969267810606, 0.9992431116514165, 0.9981651751170179, 0.999195441944395, 0.9990811886478632, 0.6285219794408793, 0.11555323130938076, 0.12001905667399451, 0.0004723469135649158, 0.110657999659708, 8.588125701180287e-05, 4.2940628505901436e-05, 0.024604980133881522, 0.2088725627721617, 0.7910187576412773, 0.27454189852618377, 0.27544648468277744, 0.44991853963578465, 0.9989458952929161, 0.9984185983685527, 0.9987718424141648, 0.9993047383590486, 0.9990049562458194, 0.9991539084901624, 0.9976630450789725, 0.7831856912051225, 0.21668752546974443, 0.3013776919809534, 0.312326403544315, 0.386086144602751, 0.9989692615804543, 0.7448487825882397, 0.006777618472039812, 0.2483595107889843, 0.999193260170906, 0.30737952582323574, 0.2616592026238627, 0.18803603511899, 0.1023104291201656, 0.14052275806866119, 0.9995104942327866, 0.9991621644559148, 0.9992430074545168, 0.9986555027812165, 0.9993013939487373, 0.0011737982497886032, 0.2787118733109161, 0.5470769324199919, 0.17298308281143895, 0.9996753550178482, 0.29324693866671475, 0.3434732760340989, 0.26158250858727694, 0.1015445516340592, 0.9989367828748491, 0.9981042414150758, 0.9989021167145758, 0.9981120690957039, 0.9993093295497911, 0.060698450307354185, 0.25291020961397576, 0.6269675319813127, 0.0594495110006185, 0.3304826963260513, 0.45618448775584014, 0.21328065037235644, 0.9993656225759024, 0.05985027277708542, 0.04591838030165936, 0.2681178490678934, 0.057717840255336536, 0.07690973295107652, 0.39464217869166063, 0.09681243648739946, 0.9996430500687395, 0.9993914097268449, 0.9997724425624204, 0.9995932605002925, 0.9988771835341734, 0.9994485330015485, 0.9987151511962468, 0.10778856362640521, 0.2175732117644105, 0.28494106403091374, 0.3887374586341188, 0.0008982380302200434, 0.9997319203756841, 0.9999329236493066, 0.9996802293878767, 0.9983071669062786, 0.3326706313923513, 0.4338212390600894, 0.020854645682323064, 0.21256125492250139, 0.9984296243217158, 0.9992349792261123, 0.9988425641193733, 0.7011494728773183, 0.24517466957430903, 0.053496794196808375, 0.3004231739188625, 0.6993090640569425, 0.9996326176738212, 0.9995185141983656, 0.999447109969011, 0.2129761582907167, 0.247708082343345, 0.19206754001103446, 0.06501816182652016, 0.1216311980323043, 0.0011114215696841055, 0.15948899524966914, 0.2771555855008396, 0.5315561968226282, 0.1911417831040273, 0.9994099808221416, 0.9995661046639376, 0.9995964046982982, 0.10803152058991095, 0.8918277780830787, 0.1969917357541685, 0.8025140250415973, 0.9993838414044206, 0.9988192402223612, 0.9989042404521942, 0.9983985685278045, 0.9992922409665025, 0.9985535015311571, 0.998174033166688, 0.2074571610392019, 0.7924818006766439, 0.21032699735863766, 0.7891157345344443, 0.060224447000757866, 0.7643741253514268, 0.17531438597254514, 0.9998689520347847, 0.11871886871790552, 0.18141593538454936, 0.35564143794858855, 0.030153781538450566, 0.16364811282045327, 0.036960578461525014, 0.016101746666660807, 0.027358719999990042, 0.06999710974356427, 0.9991265735626983, 0.326110136390646, 0.6735256768447483, 0.9998739637515048, 0.9987340046352158, 0.9998212173224252, 0.9995378831993103, 0.8250339106008541, 0.17390928103004202, 0.9987458986325284, 0.9993219689320552, 0.9999363021287495, 0.8846817941183807, 0.11480268947945306, 0.6469948765325075, 0.2965474850632184, 0.056447901981630466, 0.9978650534146323, 0.936065481466713, 0.063630579727955, 0.9271475061445459, 0.0723835022018704], \"Term\": [\"accessible\", \"acidic\", \"acidity\", \"acidity\", \"acidity\", \"acidity\", \"acidity\", \"acidity\", \"acids\", \"acids\", \"acids\", \"aftertaste\", \"age\", \"aged\", \"aged\", \"aged\", \"aged\", \"aging\", \"alcohol\", \"almond\", \"appellation\", \"apple\", \"apple\", \"apples\", \"apricot\", \"apricots\", \"aroma\", \"aromas\", \"aromas\", \"aromas\", \"aromas\", \"astringency\", \"attractive\", \"austere\", \"backed\", \"background\", \"baked\", \"baked\", \"baked\", \"balancing\", \"banana\", \"banana\", \"barbecue\", \"barrel\", \"barrel\", \"barrel\", \"base\", \"bean\", \"beautiful\", \"beautiful\", \"beautiful\", \"beautiful\", \"beautiful\", \"beer\", \"berry\", \"berry\", \"berry\", \"berry\", \"best\", \"best\", \"best\", \"better\", \"better\", \"big\", \"big\", \"big\", \"big\", \"bit\", \"bit\", \"bit\", \"black\", \"black\", \"black\", \"blackberries\", \"blackberries\", \"blackberry\", \"blackberry\", \"blackberry\", \"blackberry\", \"blanc\", \"blend\", \"blend\", \"blend\", \"blend\", \"blend\", \"blossom\", \"blue\", \"blueberry\", \"blueberry\", \"body\", \"bone\", \"bordeaux\", \"bottle\", \"bottling\", \"boysenberry\", \"bread\", \"bright\", \"bright\", \"bright\", \"bright\", \"bring\", \"brunello\", \"brut\", \"burnt\", \"burst\", \"buttered\", \"butterscotch\", \"buttery\", \"buy\", \"cab\", \"cabernet\", \"cabernet\", \"california\", \"candied\", \"candy\", \"caramel\", \"caramel\", \"cases\", \"cases\", \"cassis\", \"cassis\", \"cellar\", \"certainly\", \"character\", \"character\", \"character\", \"character\", \"character\", \"character\", \"chard\", \"chardonnay\", \"chardonnay\", \"cheeses\", \"chenin\", \"cherries\", \"cherries\", \"cherries\", \"cherries\", \"cherry\", \"cherry\", \"cherry\", \"cherry\", \"cherry\", \"chewy\", \"chewy\", \"chicken\", \"chocolate\", \"chocolate\", \"chocolate\", \"chocolaty\", \"choice\", \"cinnamon\", \"cinnamon\", \"cinnamon\", \"cinnamon\", \"citric\", \"citrus\", \"citrus\", \"citrusy\", \"citrusy\", \"class\", \"clean\", \"clean\", \"clean\", \"clean\", \"close\", \"clove\", \"coffee\", \"coffee\", \"cola\", \"cola\", \"color\", \"color\", \"color\", \"color\", \"coming\", \"complete\", \"complex\", \"complex\", \"complex\", \"complex\", \"complex\", \"concentrated\", \"concentrated\", \"concentrated\", \"continues\", \"cracker\", \"cream\", \"cream\", \"creamy\", \"creamy\", \"creamy\", \"creamy\", \"crisp\", \"crisp\", \"cru\", \"currant\", \"currant\", \"currant\", \"currant\", \"custard\", \"dark\", \"dark\", \"dark\", \"dark\", \"decent\", \"delicious\", \"delicious\", \"delicious\", \"delicious\", \"delicious\", \"deliciously\", \"dense\", \"dense\", \"despite\", \"develop\", \"distinctive\", \"dominant\", \"dominate\", \"dre\", \"dried\", \"dried\", \"dried\", \"dried\", \"drink\", \"drink\", \"drink\", \"drink\", \"drink\", \"drink\", \"drink\", \"drink\", \"drinkable\", \"drinking\", \"drinking\", \"dry\", \"dry\", \"dry\", \"dry\", \"early\", \"earth\", \"earth\", \"easy\", \"easy\", \"easy\", \"edges\", \"effort\", \"effort\", \"elegant\", \"elegant\", \"elegant\", \"elegant\", \"elegantly\", \"element\", \"entirely\", \"especially\", \"espresso\", \"estate\", \"estate\", \"estate\", \"excellent\", \"expression\", \"extra\", \"fare\", \"feel\", \"feel\", \"feel\", \"feel\", \"feels\", \"feels\", \"fermented\", \"fig\", \"filled\", \"fine\", \"fine\", \"fine\", \"fine\", \"fine\", \"fine\", \"fine\", \"finely\", \"finish\", \"finish\", \"finish\", \"finish\", \"finish\", \"finish\", \"finishes\", \"finishes\", \"finishes\", \"finishes\", \"firm\", \"firm\", \"firmly\", \"flat\", \"flavored\", \"flavorful\", \"flavors\", \"flavors\", \"flavors\", \"flavors\", \"flavors\", \"flavors\", \"flavors\", \"flavors\", \"flavors\", \"flavors\", \"floral\", \"floral\", \"floral\", \"flowers\", \"flowers\", \"followed\", \"followed\", \"food\", \"food\", \"forest\", \"form\", \"forward\", \"fragrant\", \"franc\", \"fresh\", \"fresh\", \"fresh\", \"fresh\", \"fresh\", \"fresh\", \"fruit\", \"fruit\", \"fruit\", \"fruit\", \"fruit\", \"fruit\", \"fruit\", \"fruit\", \"fruit\", \"fruits\", \"fruits\", \"fruits\", \"fruits\", \"fruits\", \"fruity\", \"fruity\", \"fruity\", \"fruity\", \"fun\", \"generic\", \"gentle\", \"gentle\", \"gentle\", \"gives\", \"gives\", \"going\", \"golden\", \"good\", \"good\", \"good\", \"grape\", \"grape\", \"grape\", \"grapefruit\", \"grapefruit\", \"grapes\", \"grapes\", \"grass\", \"grassy\", \"great\", \"great\", \"green\", \"grenache\", \"grenache\", \"grown\", \"hard\", \"heat\", \"heavy\", \"heavy\", \"help\", \"herbaceous\", \"herbal\", \"herbal\", \"herbal\", \"high\", \"high\", \"high\", \"hints\", \"hints\", \"hints\", \"hints\", \"hints\", \"hold\", \"hold\", \"honey\", \"honeyed\", \"honeysuckle\", \"hot\", \"immediately\", \"imported\", \"imported\", \"imported\", \"imported\", \"impressive\", \"impressive\", \"indian\", \"informal\", \"integrated\", \"intense\", \"intense\", \"intense\", \"intense\", \"intensely\", \"intensity\", \"interesting\", \"interesting\", \"italy\", \"jam\", \"juicy\", \"juicy\", \"juicy\", \"juicy\", \"kiwi\", \"known\", \"lavender\", \"layer\", \"layer\", \"leading\", \"leafy\", \"lean\", \"lean\", \"leather\", \"leathery\", \"lees\", \"lemon\", \"lemon\", \"length\", \"length\", \"level\", \"licorice\", \"licorice\", \"licorice\", \"light\", \"light\", \"light\", \"light\", \"light\", \"light\", \"like\", \"like\", \"likely\", \"lime\", \"lime\", \"little\", \"loaded\", \"long\", \"long\", \"long\", \"long\", \"long\", \"look\", \"lot\", \"lovely\", \"lovely\", \"luminous\", \"luscious\", \"lush\", \"lush\", \"lush\", \"lush\", \"mainly\", \"mango\", \"marmalade\", \"maybe\", \"meat\", \"meat\", \"meats\", \"medicinal\", \"mellow\", \"melon\", \"melon\", \"menthol\", \"merlot\", \"merlot\", \"mildly\", \"mineral\", \"mineral\", \"mineral\", \"mineral\", \"mineral\", \"minerally\", \"minerals\", \"mint\", \"minty\", \"modern\", \"mountain\", \"mourv\", \"mouth\", \"mouth\", \"mouth\", \"mouth\", \"mouth\", \"mouthfeel\", \"mouthfeel\", \"mouthfeel\", \"napa\", \"natural\", \"near\", \"need\", \"needs\", \"new\", \"new\", \"nice\", \"nice\", \"noir\", \"northern\", \"nose\", \"nose\", \"nose\", \"nose\", \"notes\", \"notes\", \"notes\", \"notes\", \"notes\", \"nuance\", \"nutty\", \"oak\", \"oak\", \"oak\", \"oaked\", \"oaky\", \"offering\", \"offering\", \"offering\", \"offers\", \"offers\", \"offers\", \"offers\", \"offers\", \"old\", \"old\", \"olive\", \"opens\", \"opens\", \"opens\", \"orange\", \"orange\", \"overall\", \"overly\", \"overripe\", \"packed\", \"packed\", \"pair\", \"pair\", \"pair\", \"pair\", \"pairing\", \"pairing\", \"palate\", \"palate\", \"palate\", \"palate\", \"pale\", \"peach\", \"peaches\", \"pear\", \"pears\", \"pepper\", \"pepper\", \"pepper\", \"pepper\", \"peppery\", \"perfect\", \"perfect\", \"perfectly\", \"perfumed\", \"perfumed\", \"personality\", \"petit\", \"petite\", \"pie\", \"pie\", \"pineapple\", \"pineapple\", \"pineapple\", \"pineapples\", \"pinot\", \"pinot\", \"pinot\", \"pinot\", \"pleasant\", \"pleasure\", \"plenty\", \"plenty\", \"plenty\", \"plenty\", \"plenty\", \"plum\", \"plum\", \"plum\", \"plum\", \"plush\", \"pork\", \"potential\", \"powerful\", \"price\", \"priced\", \"produce\", \"production\", \"profile\", \"prune\", \"pungent\", \"pure\", \"pure\", \"quality\", \"quality\", \"quickly\", \"raisin\", \"raisins\", \"raisiny\", \"raspberries\", \"raspberry\", \"raspberry\", \"raspberry\", \"raspberry\", \"red\", \"red\", \"red\", \"red\", \"red\", \"red\", \"red\", \"reds\", \"refined\", \"refreshing\", \"region\", \"relatively\", \"remains\", \"reserve\", \"residual\", \"rhubarb\", \"rich\", \"rich\", \"rich\", \"rich\", \"rich\", \"rich\", \"richer\", \"riesling\", \"riesling\", \"right\", \"ripe\", \"ripe\", \"ripe\", \"ripe\", \"ripe\", \"ripe\", \"ripe\", \"ripe\", \"river\", \"roast\", \"roasted\", \"rock\", \"root\", \"ros\", \"rough\", \"round\", \"round\", \"round\", \"rounded\", \"rubber\", \"rubbery\", \"ruby\", \"salmon\", \"sample\", \"sangiovese\", \"santa\", \"sauvignon\", \"screwcap\", \"seafood\", \"selection\", \"shiraz\", \"showing\", \"showing\", \"shows\", \"shows\", \"shows\", \"shows\", \"shows\", \"silky\", \"silky\", \"simple\", \"simple\", \"single\", \"sirah\", \"slight\", \"slightly\", \"slightly\", \"slightly\", \"smelling\", \"smells\", \"smoke\", \"smoke\", \"smoked\", \"smoky\", \"smoky\", \"smoky\", \"smooth\", \"smooth\", \"smooth\", \"smooth\", \"smooth\", \"smooth\", \"soft\", \"soft\", \"soft\", \"soft\", \"soft\", \"soften\", \"softly\", \"solid\", \"solid\", \"solid\", \"sort\", \"sour\", \"sourced\", \"south\", \"sparkler\", \"sparkling\", \"spice\", \"spice\", \"spice\", \"spice\", \"spice\", \"spice\", \"spice\", \"spice\", \"spices\", \"spices\", \"spicy\", \"spicy\", \"spicy\", \"stage\", \"stainless\", \"stalky\", \"stand\", \"steak\", \"steel\", \"stemmy\", \"stone\", \"stone\", \"strawberry\", \"strawberry\", \"strawberry\", \"streak\", \"structure\", \"structure\", \"structure\", \"sturdy\", \"style\", \"style\", \"style\", \"style\", \"style\", \"sugar\", \"sugary\", \"suggesting\", \"super\", \"superripe\", \"sweet\", \"sweet\", \"sweet\", \"sweet\", \"sweetness\", \"syrah\", \"syrah\", \"syrah\", \"syrah\", \"syrupy\", \"table\", \"takes\", \"tang\", \"tangerine\", \"tannic\", \"tannic\", \"tannic\", \"tannic\", \"tannins\", \"tannins\", \"tannins\", \"tar\", \"tart\", \"tart\", \"tart\", \"tart\", \"tart\", \"tart\", \"tart\", \"taste\", \"tasted\", \"tastes\", \"tasty\", \"tempranillo\", \"term\", \"terms\", \"texture\", \"texture\", \"texture\", \"texture\", \"texture\", \"toasty\", \"tobacco\", \"tones\", \"totally\", \"touch\", \"touch\", \"touch\", \"touch\", \"touched\", \"tough\", \"traditional\", \"tropical\", \"tropical\", \"tropical\", \"try\", \"try\", \"turns\", \"valley\", \"value\", \"vanilla\", \"vanilla\", \"vanilla\", \"vanilla\", \"vanilla\", \"vanilla\", \"vanilla\", \"varietal\", \"varietal\", \"varietal\", \"vegetal\", \"velvety\", \"verdot\", \"vineyard\", \"vineyard\", \"vineyards\", \"vineyards\", \"vintages\", \"violet\", \"violets\", \"walla\", \"want\", \"washington\", \"watery\", \"weight\", \"weight\", \"wet\", \"wet\", \"white\", \"white\", \"white\", \"wild\", \"wine\", \"wine\", \"wine\", \"wine\", \"wine\", \"wine\", \"wine\", \"wine\", \"wine\", \"winemaking\", \"winery\", \"winery\", \"wines\", \"wonderful\", \"wood\", \"work\", \"world\", \"world\", \"worth\", \"wrapped\", \"years\", \"yellow\", \"yellow\", \"young\", \"young\", \"young\", \"youth\", \"zest\", \"zest\", \"zin\", \"zin\"]}, \"R\": 30, \"lambda.step\": 0.01, \"plot.opts\": {\"xlab\": \"PC1\", \"ylab\": \"PC2\"}, \"topic.order\": [8, 5, 9, 1, 7, 6, 2, 3, 4, 10]};\n",
              "\n",
              "function LDAvis_load_lib(url, callback){\n",
              "  var s = document.createElement('script');\n",
              "  s.src = url;\n",
              "  s.async = true;\n",
              "  s.onreadystatechange = s.onload = callback;\n",
              "  s.onerror = function(){console.warn(\"failed to load library \" + url);};\n",
              "  document.getElementsByTagName(\"head\")[0].appendChild(s);\n",
              "}\n",
              "\n",
              "if(typeof(LDAvis) !== \"undefined\"){\n",
              "   // already loaded: just create the visualization\n",
              "   !function(LDAvis){\n",
              "       new LDAvis(\"#\" + \"ldavis_el7781402454244592328095789407\", ldavis_el7781402454244592328095789407_data);\n",
              "   }(LDAvis);\n",
              "}else if(typeof define === \"function\" && define.amd){\n",
              "   // require.js is available: use it to load d3/LDAvis\n",
              "   require.config({paths: {d3: \"https://cdnjs.cloudflare.com/ajax/libs/d3/3.5.5/d3.min\"}});\n",
              "   require([\"d3\"], function(d3){\n",
              "      window.d3 = d3;\n",
              "      LDAvis_load_lib(\"https://cdn.rawgit.com/bmabey/pyLDAvis/files/ldavis.v1.0.0.js\", function(){\n",
              "        new LDAvis(\"#\" + \"ldavis_el7781402454244592328095789407\", ldavis_el7781402454244592328095789407_data);\n",
              "      });\n",
              "    });\n",
              "}else{\n",
              "    // require.js not available: dynamically load d3 & LDAvis\n",
              "    LDAvis_load_lib(\"https://cdnjs.cloudflare.com/ajax/libs/d3/3.5.5/d3.min.js\", function(){\n",
              "         LDAvis_load_lib(\"https://cdn.rawgit.com/bmabey/pyLDAvis/files/ldavis.v1.0.0.js\", function(){\n",
              "                 new LDAvis(\"#\" + \"ldavis_el7781402454244592328095789407\", ldavis_el7781402454244592328095789407_data);\n",
              "            })\n",
              "         });\n",
              "}\n",
              "</script>"
            ],
            "text/plain": [
              "PreparedData(topic_coordinates=               x          y  topics  cluster       Freq\n",
              "topic                                                  \n",
              "7      32.420952   8.115230       1        1  16.742796\n",
              "4       0.648955  71.707100       2        1  14.126033\n",
              "8      71.019684   9.971006       3        1  12.957978\n",
              "0       3.785981  33.185135       4        1  12.807490\n",
              "6     -42.666500  -9.222070       5        1  10.099722\n",
              "5      -3.621689 -43.526516       6        1   9.543020\n",
              "1      -3.632402  -4.171708       7        1   8.429452\n",
              "2     -36.584400  35.804413       8        1   5.290853\n",
              "3      44.391380  50.615383       9        1   5.011289\n",
              "9      40.235809 -31.591665      10        1   4.991367, topic_info=             Term          Freq         Total Category  logprob  loglift\n",
              "13490        wine  91232.000000  91232.000000  Default  30.0000  30.0000\n",
              "11930       sweet  23002.000000  23002.000000  Default  29.0000  29.0000\n",
              "8150          oak  20990.000000  20990.000000  Default  28.0000  28.0000\n",
              "1148        blend  13537.000000  13537.000000  Default  27.0000  27.0000\n",
              "5293         good  18872.000000  18872.000000  Default  26.0000  26.0000\n",
              "...           ...           ...           ...      ...      ...      ...\n",
              "11610  strawberry   1340.472531   3470.728019  Topic10  -4.8548   2.0461\n",
              "4779     followed   1260.878110   3336.443396  Topic10  -4.9160   2.0244\n",
              "942     beautiful   1066.524997   2716.454215  Topic10  -5.0834   2.0625\n",
              "1148        blend   1357.899748  13537.203112  Topic10  -4.8419   0.6980\n",
              "6739       length    983.367225   2133.850586  Topic10  -5.1646   2.2228\n",
              "\n",
              "[600 rows x 6 columns], token_table=       Topic      Freq        Term\n",
              "term                              \n",
              "64         8  0.999127  accessible\n",
              "101        7  0.999579      acidic\n",
              "105        1  0.020702     acidity\n",
              "105        2  0.368418     acidity\n",
              "105        3  0.303273     acidity\n",
              "...      ...       ...         ...\n",
              "13648      3  0.997865       youth\n",
              "13671      2  0.936065        zest\n",
              "13671      7  0.063631        zest\n",
              "13679      4  0.927148         zin\n",
              "13679      8  0.072384         zin\n",
              "\n",
              "[890 rows x 3 columns], R=30, lambda_step=0.01, plot_opts={'xlab': 'PC1', 'ylab': 'PC2'}, topic_order=[8, 5, 9, 1, 7, 6, 2, 3, 4, 10])"
            ]
          },
          "metadata": {
            "tags": []
          },
          "execution_count": 27
        }
      ]
    },
    {
      "cell_type": "code",
      "metadata": {
        "id": "nYoVzDsB8ZzS",
        "outputId": "156f8854-090a-45fe-9312-ef0c7e60686e",
        "colab": {
          "base_uri": "https://localhost:8080/",
          "height": 34
        }
      },
      "source": [
        "print(\"Perplexity: \", lda.perplexity(data_vectorized)) #lower the better"
      ],
      "execution_count": null,
      "outputs": [
        {
          "output_type": "stream",
          "text": [
            "Perplexity:  1305.8252027864442\n"
          ],
          "name": "stdout"
        }
      ]
    }
  ]
}